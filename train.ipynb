{
  "nbformat": 4,
  "nbformat_minor": 0,
  "metadata": {
    "colab": {
      "name": "train.ipynb",
      "provenance": [],
      "collapsed_sections": [],
      "include_colab_link": true
    },
    "kernelspec": {
      "name": "python3",
      "display_name": "Python 3"
    },
    "accelerator": "GPU"
  },
  "cells": [
    {
      "cell_type": "markdown",
      "metadata": {
        "id": "view-in-github",
        "colab_type": "text"
      },
      "source": [
        "<a href=\"https://colab.research.google.com/github/marek-bardonski/airev-advanced-workshops/blob/master/train.ipynb\" target=\"_parent\"><img src=\"https://colab.research.google.com/assets/colab-badge.svg\" alt=\"Open In Colab\"/></a>"
      ]
    },
    {
      "cell_type": "code",
      "metadata": {
        "id": "jn_KXjFSemkG",
        "colab_type": "code",
        "colab": {
          "base_uri": "https://localhost:8080/",
          "height": 1000
        },
        "outputId": "14f297aa-0a43-4f53-afef-cdd13a17ef92"
      },
      "source": [
        "# AI REV LLC - Copyrights 2020\n",
        "#Change runtime mode to GPU\n",
        "\n",
        "!nvcc --version\n",
        "!pip3 install wget\n",
        "\n",
        "# https://github.com/rapidsai/cudf/issues/3390\n",
        "!pip3 install pyarrow==0.15.0 ## Workaround to cover up for Google Colab bug\n",
        "\n",
        "#!pip3 install cudf-cuda100\n",
        "#!pip3 install nvstrings-cuda100\n",
        "#!pip3 install cuml-cuda100\n",
        "#!pip3 install nvvm-cuda100\n",
        "\n",
        "# intall miniconda\n",
        "!wget -c https://repo.continuum.io/miniconda/Miniconda3-4.5.4-Linux-x86_64.sh\n",
        "!chmod +x Miniconda3-4.5.4-Linux-x86_64.sh\n",
        "!bash ./Miniconda3-4.5.4-Linux-x86_64.sh -b -f -p /usr/local\n",
        "\n",
        "# install RAPIDS packages\n",
        "!conda install -q -y --prefix /usr/local -c conda-forge \\\n",
        "  -c rapidsai-nightly/label/cuda10.0 -c nvidia/label/cuda10.0 \\\n",
        "  cudf cuml"
      ],
      "execution_count": 8,
      "outputs": [
        {
          "output_type": "stream",
          "text": [
            "nvcc: NVIDIA (R) Cuda compiler driver\n",
            "Copyright (c) 2005-2018 NVIDIA Corporation\n",
            "Built on Sat_Aug_25_21:08:01_CDT_2018\n",
            "Cuda compilation tools, release 10.0, V10.0.130\n",
            "Requirement already satisfied: wget in /usr/local/lib/python3.6/dist-packages (3.2)\n",
            "--2019-12-26 15:57:32--  https://repo.continuum.io/miniconda/Miniconda3-4.5.4-Linux-x86_64.sh\n",
            "Resolving repo.continuum.io (repo.continuum.io)... 104.18.201.79, 104.18.200.79, 2606:4700::6812:c84f, ...\n",
            "Connecting to repo.continuum.io (repo.continuum.io)|104.18.201.79|:443... connected.\n",
            "HTTP request sent, awaiting response... 416 Requested Range Not Satisfiable\n",
            "\n",
            "    The file is already fully retrieved; nothing to do.\n",
            "\n",
            "PREFIX=/usr/local\n",
            "installing: python-3.6.5-hc3d631a_2 ...\n",
            "Python 3.6.5 :: Anaconda, Inc.\n",
            "installing: ca-certificates-2018.03.07-0 ...\n",
            "installing: conda-env-2.6.0-h36134e3_1 ...\n",
            "installing: libgcc-ng-7.2.0-hdf63c60_3 ...\n",
            "installing: libstdcxx-ng-7.2.0-hdf63c60_3 ...\n",
            "installing: libffi-3.2.1-hd88cf55_4 ...\n",
            "installing: ncurses-6.1-hf484d3e_0 ...\n",
            "installing: openssl-1.0.2o-h20670df_0 ...\n",
            "installing: tk-8.6.7-hc745277_3 ...\n",
            "installing: xz-5.2.4-h14c3975_4 ...\n",
            "installing: yaml-0.1.7-had09818_2 ...\n",
            "installing: zlib-1.2.11-ha838bed_2 ...\n",
            "installing: libedit-3.1.20170329-h6b74fdf_2 ...\n",
            "installing: readline-7.0-ha6073c6_4 ...\n",
            "installing: sqlite-3.23.1-he433501_0 ...\n",
            "installing: asn1crypto-0.24.0-py36_0 ...\n",
            "installing: certifi-2018.4.16-py36_0 ...\n",
            "installing: chardet-3.0.4-py36h0f667ec_1 ...\n",
            "installing: idna-2.6-py36h82fb2a8_1 ...\n",
            "installing: pycosat-0.6.3-py36h0a5515d_0 ...\n",
            "installing: pycparser-2.18-py36hf9f622e_1 ...\n",
            "installing: pysocks-1.6.8-py36_0 ...\n",
            "installing: ruamel_yaml-0.15.37-py36h14c3975_2 ...\n",
            "installing: six-1.11.0-py36h372c433_1 ...\n",
            "installing: cffi-1.11.5-py36h9745a5d_0 ...\n",
            "installing: setuptools-39.2.0-py36_0 ...\n",
            "installing: cryptography-2.2.2-py36h14c3975_0 ...\n",
            "installing: wheel-0.31.1-py36_0 ...\n",
            "installing: pip-10.0.1-py36_0 ...\n",
            "installing: pyopenssl-18.0.0-py36_0 ...\n",
            "installing: urllib3-1.22-py36hbe7ace6_0 ...\n",
            "installing: requests-2.18.4-py36he2e5f8d_1 ...\n",
            "installing: conda-4.5.4-py36_0 ...\n",
            "unlinking: ca-certificates-2019.11.28-hecc5488_0\n",
            "unlinking: certifi-2019.11.28-py37_0\n",
            "unlinking: libffi-3.2.1-he1b5a44_1006\n",
            "unlinking: libgcc-ng-9.2.0-hdf63c60_0\n",
            "unlinking: libstdcxx-ng-9.2.0-hdf63c60_0\n",
            "unlinking: ncurses-6.1-hf484d3e_1002\n",
            "unlinking: openssl-1.1.1d-h516909a_0\n",
            "unlinking: pip-19.3.1-py37_0\n",
            "unlinking: python-3.7.6-h357f687_0\n",
            "unlinking: readline-8.0-hf8c457e_0\n",
            "unlinking: setuptools-42.0.2-py37_0\n",
            "unlinking: six-1.13.0-py37_0\n",
            "unlinking: sqlite-3.30.1-hcee41ef_0\n",
            "unlinking: tk-8.6.10-hed695b0_0\n",
            "unlinking: wheel-0.33.6-py37_0\n",
            "unlinking: xz-5.2.4-h14c3975_1001\n",
            "unlinking: zlib-1.2.11-h516909a_1006\n",
            "installation finished.\n",
            "WARNING:\n",
            "    You currently have a PYTHONPATH environment variable set. This may cause\n",
            "    unexpected behavior when running the Python interpreter in Miniconda3.\n",
            "    For best results, please verify that your PYTHONPATH only points to\n",
            "    directories of packages that are compatible with the Python interpreter\n",
            "    in Miniconda3: /usr/local\n",
            "Solving environment: ...working... done\n",
            "\n",
            "## Package Plan ##\n",
            "\n",
            "  environment location: /usr/local\n",
            "\n",
            "  added / updated specs: \n",
            "    - cudf\n",
            "    - cuml\n",
            "\n",
            "\n",
            "The following packages will be downloaded:\n",
            "\n",
            "    package                    |            build\n",
            "    ---------------------------|-----------------\n",
            "    arrow-cpp-0.15.0           |   py36h090bef1_2        18.1 MB  conda-forge\n",
            "    tqdm-4.41.0                |             py_0          45 KB  conda-forge\n",
            "    cryptography-2.8           |   py36h72c5cf5_1         616 KB  conda-forge\n",
            "    sqlite-3.28.0              |       h8b20d00_0         1.9 MB  conda-forge\n",
            "    rmm-0.11.0b191205          |          py36_72         278 KB  rapidsai-nightly/label/cuda10.0\n",
            "    conda-package-handling-1.6.0|   py36h516909a_1         941 KB  conda-forge\n",
            "    pyarrow-0.15.0             |   py36h8b68381_1         3.2 MB  conda-forge\n",
            "    pandas-0.24.2              |   py36hb3f55d8_1        11.1 MB  conda-forge\n",
            "    cudf-0.11.0a191205         |        py36_3934         7.9 MB  rapidsai-nightly/label/cuda10.0\n",
            "    certifi-2019.11.28         |           py36_0         149 KB  conda-forge\n",
            "    fastavro-0.22.9            |   py36h516909a_0         409 KB  conda-forge\n",
            "    numpy-1.17.3               |   py36h95a1406_0         5.2 MB  conda-forge\n",
            "    fastrlock-0.4              |py36he1b5a44_1000          32 KB  conda-forge\n",
            "    cupy-6.6.0                 |   py36h809cb0f_1        14.5 MB  conda-forge\n",
            "    numba-0.46.0               |   py36hb3f55d8_1         3.3 MB  conda-forge\n",
            "    python-3.6.7               |    h381d211_1004        34.5 MB  conda-forge\n",
            "    nvstrings-0.11.0a191205    |        py36_3934         128 KB  rapidsai-nightly/label/cuda10.0\n",
            "    llvmlite-0.30.0            |   py36h8b12597_1         337 KB  conda-forge\n",
            "    cuml-0.11.0a1191204        |cuda10.0_py36_1141         8.4 MB  rapidsai-nightly/label/cuda10.0\n",
            "    conda-4.8.0                |           py36_1         3.0 MB  conda-forge\n",
            "    ------------------------------------------------------------\n",
            "                                           Total:       114.0 MB\n",
            "\n",
            "The following NEW packages will be INSTALLED:\n",
            "\n",
            "    conda-package-handling: 1.6.0-py36h516909a_1              conda-forge                    \n",
            "    tqdm:                   4.41.0-py_0                       conda-forge                    \n",
            "\n",
            "The following packages will be UPDATED:\n",
            "\n",
            "    arrow-cpp:              0.15.0-py37h090bef1_2             conda-forge                     --> 0.15.0-py36h090bef1_2             conda-forge                    \n",
            "    ca-certificates:        2018.03.07-0                                                      --> 2019.11.28-hecc5488_0             conda-forge                    \n",
            "    certifi:                2018.4.16-py36_0                                                  --> 2019.11.28-py36_0                 conda-forge                    \n",
            "    conda:                  4.5.4-py36_0                                                      --> 4.8.0-py36_1                      conda-forge                    \n",
            "    cryptography:           2.2.2-py36h14c3975_0                                              --> 2.8-py36h72c5cf5_1                conda-forge                    \n",
            "    cudf:                   0.11.0a191205-py37_3934           rapidsai-nightly/label/cuda10.0 --> 0.11.0a191205-py36_3934           rapidsai-nightly/label/cuda10.0\n",
            "    cuml:                   0.11.0a1191204-cuda10.0_py37_1141 rapidsai-nightly/label/cuda10.0 --> 0.11.0a1191204-cuda10.0_py36_1141 rapidsai-nightly/label/cuda10.0\n",
            "    cupy:                   6.6.0-py37h809cb0f_1              conda-forge                     --> 6.6.0-py36h809cb0f_1              conda-forge                    \n",
            "    fastavro:               0.22.9-py37h516909a_0             conda-forge                     --> 0.22.9-py36h516909a_0             conda-forge                    \n",
            "    fastrlock:              0.4-py37he1b5a44_1000             conda-forge                     --> 0.4-py36he1b5a44_1000             conda-forge                    \n",
            "    libgcc-ng:              7.2.0-hdf63c60_3                                                  --> 9.2.0-hdf63c60_0                  conda-forge                    \n",
            "    libstdcxx-ng:           7.2.0-hdf63c60_3                                                  --> 9.2.0-hdf63c60_0                  conda-forge                    \n",
            "    llvmlite:               0.30.0-py37h8b12597_1             conda-forge                     --> 0.30.0-py36h8b12597_1             conda-forge                    \n",
            "    numba:                  0.46.0-py37hb3f55d8_1             conda-forge                     --> 0.46.0-py36hb3f55d8_1             conda-forge                    \n",
            "    numpy:                  1.17.3-py37h95a1406_0             conda-forge                     --> 1.17.3-py36h95a1406_0             conda-forge                    \n",
            "    nvstrings:              0.11.0a191205-py37_3934           rapidsai-nightly/label/cuda10.0 --> 0.11.0a191205-py36_3934           rapidsai-nightly/label/cuda10.0\n",
            "    openssl:                1.0.2o-h20670df_0                                                 --> 1.1.1d-h516909a_0                 conda-forge                    \n",
            "    pandas:                 0.24.2-py37hb3f55d8_1             conda-forge                     --> 0.24.2-py36hb3f55d8_1             conda-forge                    \n",
            "    pyarrow:                0.15.0-py37h8b68381_1             conda-forge                     --> 0.15.0-py36h8b68381_1             conda-forge                    \n",
            "    python:                 3.6.5-hc3d631a_2                                                  --> 3.6.7-h381d211_1004               conda-forge                    \n",
            "    rmm:                    0.11.0b191205-py37_72             rapidsai-nightly/label/cuda10.0 --> 0.11.0b191205-py36_72             rapidsai-nightly/label/cuda10.0\n",
            "    sqlite:                 3.23.1-he433501_0                                                 --> 3.28.0-h8b20d00_0                 conda-forge                    \n",
            "    tk:                     8.6.7-hc745277_3                                                  --> 8.6.10-hed695b0_0                 conda-forge                    \n",
            "\n",
            "Preparing transaction: ...working... done\n",
            "Verifying transaction: ...working... done\n",
            "Executing transaction: ...working... done\n"
          ],
          "name": "stdout"
        }
      ]
    },
    {
      "cell_type": "markdown",
      "metadata": {
        "id": "_feLB_gSiQo4",
        "colab_type": "text"
      },
      "source": [
        "Remember to restart the runtime at this moment."
      ]
    },
    {
      "cell_type": "code",
      "metadata": {
        "id": "h9lBTPg-6-We",
        "colab_type": "code",
        "colab": {
          "base_uri": "https://localhost:8080/",
          "height": 34
        },
        "outputId": "a2d3d6c3-11b3-428f-91d1-0a460276a007"
      },
      "source": [
        "!ls /env/python/"
      ],
      "execution_count": 15,
      "outputs": [
        {
          "output_type": "stream",
          "text": [
            "ls: cannot access '/env/python/': No such file or directory\n"
          ],
          "name": "stdout"
        }
      ]
    },
    {
      "cell_type": "code",
      "metadata": {
        "id": "ET1uPRNm4TSc",
        "colab_type": "code",
        "colab": {}
      },
      "source": [
        "# set environment vars\n",
        "import sys, os, shutil\n",
        "sys.path.append('/usr/local/lib/python3.6/site-packages/')\n",
        "os.environ['NUMBAPRO_NVVM'] = '/usr/local/cuda/nvvm/lib64/libnvvm.so'\n",
        "os.environ['NUMBAPRO_LIBDEVICE'] = '/usr/local/cuda/nvvm/libdevice/'\n",
        "\n",
        "# copy .so files to current working dir\n",
        "for fn in ['libcudf.so', 'librmm.so']:\n",
        "  shutil.copy('/usr/local/lib/'+fn, os.getcwd())"
      ],
      "execution_count": 0,
      "outputs": []
    },
    {
      "cell_type": "code",
      "metadata": {
        "id": "-nUwhueFJ_H-",
        "colab_type": "code",
        "colab": {}
      },
      "source": [
        "import wget\n",
        "from zipfile import ZipFile\n",
        "import os\n",
        "import cudf\n",
        "import sys, os\n",
        "import nvcategory\n",
        "import os\n",
        "import numpy as np\n",
        "#import cuml (bug https://gitmemory.com/issue/rapidsai/cuml/404/477551898)\n",
        "import nvstrings\n",
        "import nltk\n",
        "from numba import cuda\n",
        "import json"
      ],
      "execution_count": 0,
      "outputs": []
    },
    {
      "cell_type": "code",
      "metadata": {
        "id": "cOFllMJm9Pe_",
        "colab_type": "code",
        "colab": {
          "base_uri": "https://localhost:8080/",
          "height": 273
        },
        "outputId": "e5f3f71c-6210-4dca-94d6-e55ebcb2b391"
      },
      "source": [
        ""
      ],
      "execution_count": 24,
      "outputs": [
        {
          "output_type": "stream",
          "text": [
            "Collecting pyarrow==0.15.0\n",
            "\u001b[?25l  Downloading https://files.pythonhosted.org/packages/af/60/455bfa3d2289339789b5ae00ab4afc88d799298f8e24ffdcd9419d177997/pyarrow-0.15.0-cp36-cp36m-manylinux2010_x86_64.whl (60.5MB)\n",
            "\u001b[K     |████████████████████████████████| 60.5MB 51kB/s \n",
            "\u001b[?25hRequirement already satisfied: numpy>=1.14 in /usr/local/lib/python3.6/dist-packages (from pyarrow==0.15.0) (1.17.4)\n",
            "Requirement already satisfied: six>=1.0.0 in /usr/local/lib/python3.6/dist-packages (from pyarrow==0.15.0) (1.12.0)\n",
            "Installing collected packages: pyarrow\n",
            "  Found existing installation: pyarrow 0.14.1\n",
            "    Uninstalling pyarrow-0.14.1:\n",
            "      Successfully uninstalled pyarrow-0.14.1\n",
            "Successfully installed pyarrow-0.15.0\n"
          ],
          "name": "stdout"
        },
        {
          "output_type": "display_data",
          "data": {
            "application/vnd.colab-display-data+json": {
              "pip_warning": {
                "packages": [
                  "pyarrow"
                ]
              }
            }
          },
          "metadata": {
            "tags": []
          }
        }
      ]
    },
    {
      "cell_type": "code",
      "metadata": {
        "id": "wBx-VbqMYEBo",
        "colab_type": "code",
        "colab": {
          "base_uri": "https://localhost:8080/",
          "height": 51
        },
        "outputId": "8ca66461-aef2-4762-96f6-1203e90590dc"
      },
      "source": [
        "# Raw datasets are samples from WebHose.io \n",
        "print('Beginning dataset download with wget module')\n",
        "\n",
        "url = 'https://bardonski.pl/chineese.zip'\n",
        "wget.download(url)\n",
        "url = 'https://bardonski.pl/arabic.zip'\n",
        "wget.download(url)"
      ],
      "execution_count": 5,
      "outputs": [
        {
          "output_type": "stream",
          "text": [
            "Beginning dataset download with wget module\n"
          ],
          "name": "stdout"
        },
        {
          "output_type": "execute_result",
          "data": {
            "text/plain": [
              "'arabic.zip'"
            ]
          },
          "metadata": {
            "tags": []
          },
          "execution_count": 5
        }
      ]
    },
    {
      "cell_type": "code",
      "metadata": {
        "id": "iDlFmOkAKDBQ",
        "colab_type": "code",
        "colab": {}
      },
      "source": [
        "zip = ZipFile('chineese.zip')\n",
        "zip.extractall()\n",
        "\n",
        "!mkdir chineese\n",
        "\n",
        "zip = ZipFile('630_webhose-2016-10_20170904084325.zip')\n",
        "zip.extractall('chineese')"
      ],
      "execution_count": 0,
      "outputs": []
    },
    {
      "cell_type": "code",
      "metadata": {
        "id": "G37zDeifXwLf",
        "colab_type": "code",
        "colab": {}
      },
      "source": [
        "zip = ZipFile('arabic.zip')\n",
        "zip.extractall()\n",
        "\n",
        "!mkdir arabic\n",
        "\n",
        "zip = ZipFile('627_webhose-2016-10_20170904083346.zip')\n",
        "zip.extractall('arabic')"
      ],
      "execution_count": 0,
      "outputs": []
    },
    {
      "cell_type": "code",
      "metadata": {
        "id": "fLyn-jT-Y3JY",
        "colab_type": "code",
        "outputId": "47789531-0efd-4fd1-80ea-954b0f081f8b",
        "colab": {
          "base_uri": "https://localhost:8080/",
          "height": 51
        }
      },
      "source": [
        "#Expected 236384 arabic articles\n",
        "#Expected 316004 chineese articles\n",
        "!ls arabic -l | wc -l\n",
        "!ls chineese -l | wc -l\n"
      ],
      "execution_count": 8,
      "outputs": [
        {
          "output_type": "stream",
          "text": [
            "236384\n",
            "316004\n"
          ],
          "name": "stdout"
        }
      ]
    },
    {
      "cell_type": "code",
      "metadata": {
        "id": "NbriaZfeaKr-",
        "colab_type": "code",
        "colab": {
          "base_uri": "https://localhost:8080/",
          "height": 136
        },
        "outputId": "a254bf61-fe8e-4e62-c238-bc041c6d021e"
      },
      "source": [
        "def get_text(lines):\n",
        "    \"\"\"\n",
        "        returns non empty lines from a list of lines\n",
        "    \"\"\"\n",
        "    decoded = json.loads(lines[0])\n",
        "    clean_lines = decoded['text']\n",
        "    return [clean_lines]\n",
        "\n",
        "def get_txt_lines(data_dir):\n",
        "    \"\"\"\n",
        "        Read text lines from gutenberg tests\n",
        "        returns (text_ls,fname_ls) where \n",
        "        text_ls = input_text_lines and fname_ls = list of file names\n",
        "    \"\"\"\n",
        "    text_ls = []\n",
        "    fname_ls = []\n",
        "    for fn in os.listdir(data_dir):\n",
        "        full_fn = os.path.join(data_dir,fn)\n",
        "        with open(full_fn,encoding=\"utf-8\",errors=\"ignore\") as f:\n",
        "            content = f.readlines()\n",
        "            content = get_text(content)\n",
        "            if content is not None:\n",
        "                text_ls += content\n",
        "                ### dont add .txt to the file\n",
        "                fname_ls += [fn[:-4]]*len(content)\n",
        "        #return text_ls, fname_ls    \n",
        "    \n",
        "    return text_ls, fname_ls    \n",
        "    \n",
        "print(\"File Read Time:\")\n",
        "%time txt_ls,fname_ls = get_txt_lines('arabic')\n",
        "df = cudf.DataFrame()\n",
        "\n",
        "print(\"\\nCUDF  Creation Time:\")\n",
        "%time df['text'] = nvstrings.to_device(txt_ls)"
      ],
      "execution_count": 9,
      "outputs": [
        {
          "output_type": "stream",
          "text": [
            "File Read Time:\n",
            "CPU times: user 12.6 s, sys: 2.95 s, total: 15.6 s\n",
            "Wall time: 15.7 s\n",
            "\n",
            "CUDF  Creation Time:\n",
            "CPU times: user 2.45 s, sys: 932 ms, total: 3.38 s\n",
            "Wall time: 3.46 s\n"
          ],
          "name": "stdout"
        }
      ]
    },
    {
      "cell_type": "code",
      "metadata": {
        "id": "RBIamb5gbd_O",
        "colab_type": "code",
        "colab": {
          "base_uri": "https://localhost:8080/",
          "height": 34
        },
        "outputId": "cda58d1b-5315-4187-a373-bc3b725d2d1a"
      },
      "source": [
        "print(\"Number of lines in the DF = {:,}\".format(len(df)))"
      ],
      "execution_count": 10,
      "outputs": [
        {
          "output_type": "stream",
          "text": [
            "Number of lines in the DF = 236,383\n"
          ],
          "name": "stdout"
        }
      ]
    },
    {
      "cell_type": "code",
      "metadata": {
        "id": "1fheBQLXhr-A",
        "colab_type": "code",
        "colab": {
          "base_uri": "https://localhost:8080/",
          "height": 359
        },
        "outputId": "fc365b0e-d2b4-4173-db4f-ee1d57682706"
      },
      "source": [
        "df.head(10).to_pandas()"
      ],
      "execution_count": 11,
      "outputs": [
        {
          "output_type": "execute_result",
          "data": {
            "text/html": [
              "<div>\n",
              "<style scoped>\n",
              "    .dataframe tbody tr th:only-of-type {\n",
              "        vertical-align: middle;\n",
              "    }\n",
              "\n",
              "    .dataframe tbody tr th {\n",
              "        vertical-align: top;\n",
              "    }\n",
              "\n",
              "    .dataframe thead th {\n",
              "        text-align: right;\n",
              "    }\n",
              "</style>\n",
              "<table border=\"1\" class=\"dataframe\">\n",
              "  <thead>\n",
              "    <tr style=\"text-align: right;\">\n",
              "      <th></th>\n",
              "      <th>text</th>\n",
              "    </tr>\n",
              "  </thead>\n",
              "  <tbody>\n",
              "    <tr>\n",
              "      <th>0</th>\n",
              "      <td>مارون: مهند عندو عقدي ضاربتو شمس هو وصغير ملفا...</td>\n",
              "    </tr>\n",
              "    <tr>\n",
              "      <th>1</th>\n",
              "      <td>لهذا السبب.. خالد الصاوي يوجه رسالة شكر لجمهور...</td>\n",
              "    </tr>\n",
              "    <tr>\n",
              "      <th>2</th>\n",
              "      <td>انتونيو غوتيريس يصبح رسميًا الأمين العام الجدي...</td>\n",
              "    </tr>\n",
              "    <tr>\n",
              "      <th>3</th>\n",
              "      <td>رام الله- شاشة نيوز- تتقدم اسرة شاشة نيوز باحر...</td>\n",
              "    </tr>\n",
              "    <tr>\n",
              "      <th>4</th>\n",
              "      <td>الليثي ضحايا الدجل والشعوذة يتعرضن للإعتداء ال...</td>\n",
              "    </tr>\n",
              "    <tr>\n",
              "      <th>5</th>\n",
              "      <td>أعلن مسئولون باكستانيون ارتفاع حصيلة ضحايا اله...</td>\n",
              "    </tr>\n",
              "    <tr>\n",
              "      <th>6</th>\n",
              "      <td>قرعة سهلة لأندية القمة في قرعة دور الـ32 بكأس ...</td>\n",
              "    </tr>\n",
              "    <tr>\n",
              "      <th>7</th>\n",
              "      <td>صورة «سيلفي» كادت تدخل نجم البوب الأميركي جا...</td>\n",
              "    </tr>\n",
              "    <tr>\n",
              "      <th>8</th>\n",
              "      <td>بدد باحثون من جامعة أوكسفورد البريطانية أسطورة...</td>\n",
              "    </tr>\n",
              "    <tr>\n",
              "      <th>9</th>\n",
              "      <td>قفزت أسعار النفط ثلاثة بالمائة يوم أمس الاثنين...</td>\n",
              "    </tr>\n",
              "  </tbody>\n",
              "</table>\n",
              "</div>"
            ],
            "text/plain": [
              "                                                text\n",
              "0  مارون: مهند عندو عقدي ضاربتو شمس هو وصغير ملفا...\n",
              "1  لهذا السبب.. خالد الصاوي يوجه رسالة شكر لجمهور...\n",
              "2  انتونيو غوتيريس يصبح رسميًا الأمين العام الجدي...\n",
              "3  رام الله- شاشة نيوز- تتقدم اسرة شاشة نيوز باحر...\n",
              "4  الليثي ضحايا الدجل والشعوذة يتعرضن للإعتداء ال...\n",
              "5  أعلن مسئولون باكستانيون ارتفاع حصيلة ضحايا اله...\n",
              "6  قرعة سهلة لأندية القمة في قرعة دور الـ32 بكأس ...\n",
              "7    صورة «سيلفي» كادت تدخل نجم البوب الأميركي جا...\n",
              "8  بدد باحثون من جامعة أوكسفورد البريطانية أسطورة...\n",
              "9  قفزت أسعار النفط ثلاثة بالمائة يوم أمس الاثنين..."
            ]
          },
          "metadata": {
            "tags": []
          },
          "execution_count": 11
        }
      ]
    },
    {
      "cell_type": "code",
      "metadata": {
        "id": "L6F8eZOVri10",
        "colab_type": "code",
        "colab": {
          "base_uri": "https://localhost:8080/",
          "height": 119
        },
        "outputId": "bb1f24e7-8955-4ee7-8e98-e5bed1724739"
      },
      "source": [
        "# remove the following punctuations/characters from cudf\n",
        "filters = [ '!', '\"', '#', '$', '%', '&', '(', ')', '*', '+', '-', '.', '/',  '\\\\', ':', ';', '<', '=', '>',\n",
        "           '?', '@', '[', ']', '^', '_', '`', '{', '|', '}', '\\~', '\\t','\\\\n',\"'\",\",\",'~' , '—']\n",
        "\n",
        "\n",
        "text_col_sample = df.head(5)\n",
        "text_col_sample['text'].to_pandas()"
      ],
      "execution_count": 12,
      "outputs": [
        {
          "output_type": "execute_result",
          "data": {
            "text/plain": [
              "0    مارون: مهند عندو عقدي ضاربتو شمس هو وصغير ملفا...\n",
              "1    لهذا السبب.. خالد الصاوي يوجه رسالة شكر لجمهور...\n",
              "2    انتونيو غوتيريس يصبح رسميًا الأمين العام الجدي...\n",
              "3    رام الله- شاشة نيوز- تتقدم اسرة شاشة نيوز باحر...\n",
              "4    الليثي ضحايا الدجل والشعوذة يتعرضن للإعتداء ال...\n",
              "Name: text, dtype: object"
            ]
          },
          "metadata": {
            "tags": []
          },
          "execution_count": 12
        }
      ]
    },
    {
      "cell_type": "code",
      "metadata": {
        "id": "GsDT6uAKvVjk",
        "colab_type": "code",
        "colab": {
          "base_uri": "https://localhost:8080/",
          "height": 119
        },
        "outputId": "63b346a0-3394-4022-eb0b-b462cdd4035e"
      },
      "source": [
        "text_col_sample['text_clean'] = text_col_sample['text'].str.replace_multi(filters, ' ', regex=False)\n",
        "text_col_sample['text_clean'].to_pandas()"
      ],
      "execution_count": 14,
      "outputs": [
        {
          "output_type": "execute_result",
          "data": {
            "text/plain": [
              "0    مارون  مهند عندو عقدي ضاربتو شمس هو وصغير ملفا...\n",
              "1    لهذا السبب   خالد الصاوي يوجه رسالة شكر لجمهور...\n",
              "2    انتونيو غوتيريس يصبح رسميًا الأمين العام الجدي...\n",
              "3    رام الله  شاشة نيوز  تتقدم اسرة شاشة نيوز باحر...\n",
              "4    الليثي ضحايا الدجل والشعوذة يتعرضن للإعتداء ال...\n",
              "Name: text_clean, dtype: object"
            ]
          },
          "metadata": {
            "tags": []
          },
          "execution_count": 14
        }
      ]
    },
    {
      "cell_type": "code",
      "metadata": {
        "id": "crqlPqtlwNnt",
        "colab_type": "code",
        "colab": {}
      },
      "source": [
        "text_col_sample['text_clean'] = text_col_sample['text_clean'].str.lower()"
      ],
      "execution_count": 0,
      "outputs": []
    },
    {
      "cell_type": "code",
      "metadata": {
        "id": "xKuK89qEwOKK",
        "colab_type": "code",
        "colab": {}
      },
      "source": [
        "nltk.download('stopwords')\n",
        "STOPWORDS = nltk.corpus.stopwords.words('arabic')\n",
        "STOPWORDS = nvstrings.to_device(STOPWORDS)"
      ],
      "execution_count": 0,
      "outputs": []
    },
    {
      "cell_type": "code",
      "metadata": {
        "id": "m0e5zFyjwQYv",
        "colab_type": "code",
        "colab": {}
      },
      "source": [
        "text_col_sample['text_clean'] = nvtext.replace_tokens(text_col_sample['text_clean'].data, STOPWORDS, ' ')\n",
        "text_col_sample['text_clean'].to_pandas()"
      ],
      "execution_count": 0,
      "outputs": []
    },
    {
      "cell_type": "code",
      "metadata": {
        "id": "nTHxkESjx7bq",
        "colab_type": "code",
        "colab": {}
      },
      "source": [
        "import nvtext"
      ],
      "execution_count": 0,
      "outputs": []
    },
    {
      "cell_type": "code",
      "metadata": {
        "id": "59MQHYf7x951",
        "colab_type": "code",
        "colab": {}
      },
      "source": [
        "!ls /usr/local/cuda-10.1/"
      ],
      "execution_count": 0,
      "outputs": []
    },
    {
      "cell_type": "code",
      "metadata": {
        "id": "GEaGqGwcy6Au",
        "colab_type": "code",
        "colab": {}
      },
      "source": [
        ""
      ],
      "execution_count": 0,
      "outputs": []
    },
    {
      "cell_type": "code",
      "metadata": {
        "id": "-FNhnzVazYi_",
        "colab_type": "code",
        "colab": {}
      },
      "source": [
        ""
      ],
      "execution_count": 0,
      "outputs": []
    },
    {
      "cell_type": "code",
      "metadata": {
        "id": "_oBSnlWUz2o3",
        "colab_type": "code",
        "colab": {}
      },
      "source": [
        ""
      ],
      "execution_count": 0,
      "outputs": []
    }
  ]
}