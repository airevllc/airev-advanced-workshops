{
  "nbformat": 4,
  "nbformat_minor": 0,
  "metadata": {
    "colab": {
      "name": "train.ipynb",
      "provenance": [],
      "collapsed_sections": [],
      "include_colab_link": true
    },
    "kernelspec": {
      "name": "python3",
      "display_name": "Python 3"
    },
    "accelerator": "GPU"
  },
  "cells": [
    {
      "cell_type": "markdown",
      "metadata": {
        "id": "view-in-github",
        "colab_type": "text"
      },
      "source": [
        "<a href=\"https://colab.research.google.com/github/marek-bardonski/airev-advanced-workshops/blob/master/train.ipynb\" target=\"_parent\"><img src=\"https://colab.research.google.com/assets/colab-badge.svg\" alt=\"Open In Colab\"/></a>"
      ]
    },
    {
      "cell_type": "code",
      "metadata": {
        "id": "jn_KXjFSemkG",
        "colab_type": "code",
        "colab": {}
      },
      "source": [
        "# AI REV LLC - Copyrights 2020\n",
        "# [Google Colab] Change runtime mode to GPU\n",
        "# https://docs.rapids.ai/\n",
        "\n",
        "!nvcc --version\n",
        "!pip3 install wget\n",
        "\n",
        "# https://github.com/rapidsai/cudf/issues/3390\n",
        "!pip3 install pyarrow==0.15.0 ## Workaround to cover up for Google Colab bug\n",
        "\n",
        "#!pip3 install cudf-cuda100\n",
        "#!pip3 install nvstrings-cuda100\n",
        "#!pip3 install cuml-cuda100\n",
        "#!pip3 install nvvm-cuda100\n",
        "\n",
        "# RAPIDS installation script. Thanks Ritchie Ng and NVIDIA Corporation.\n",
        "# intall miniconda\n",
        "!wget -c https://repo.continuum.io/miniconda/Miniconda3-4.5.4-Linux-x86_64.sh\n",
        "!chmod +x Miniconda3-4.5.4-Linux-x86_64.sh\n",
        "!bash ./Miniconda3-4.5.4-Linux-x86_64.sh -b -f -p /usr/local\n",
        "\n",
        "# install RAPIDS packages\n",
        "!conda install -q -y --prefix /usr/local -c conda-forge \\\n",
        "  -c rapidsai-nightly/label/cuda10.0 -c nvidia/label/cuda10.0 \\\n",
        "  cudf cuml"
      ],
      "execution_count": 0,
      "outputs": []
    },
    {
      "cell_type": "markdown",
      "metadata": {
        "id": "_feLB_gSiQo4",
        "colab_type": "text"
      },
      "source": [
        "Remember to restart the runtime at this moment."
      ]
    },
    {
      "cell_type": "code",
      "metadata": {
        "id": "h9lBTPg-6-We",
        "colab_type": "code",
        "colab": {}
      },
      "source": [
        ""
      ],
      "execution_count": 0,
      "outputs": []
    },
    {
      "cell_type": "code",
      "metadata": {
        "id": "ET1uPRNm4TSc",
        "colab_type": "code",
        "colab": {}
      },
      "source": [
        "# set environment vars\n",
        "import sys, os, shutil\n",
        "import wget\n",
        "from zipfile import ZipFile\n",
        "import os\n",
        "import cudf\n",
        "import sys, os\n",
        "import nvcategory\n",
        "import os\n",
        "import numpy as np\n",
        "#import cuml (bug https://gitmemory.com/issue/rapidsai/cuml/404/477551898)\n",
        "import nvstrings\n",
        "import nltk\n",
        "from numba import cuda\n",
        "import json\n",
        "import nvtext\n",
        "\n",
        "sys.path.append('/usr/local/lib/python3.6/site-packages/')\n",
        "os.environ['NUMBAPRO_NVVM'] = '/usr/local/cuda/nvvm/lib64/libnvvm.so'\n",
        "os.environ['NUMBAPRO_LIBDEVICE'] = '/usr/local/cuda/nvvm/libdevice/'\n",
        "\n",
        "# copy .so files to current working dir\n",
        "for fn in ['libcudf.so', 'librmm.so']:\n",
        "  shutil.copy('/usr/local/lib/'+fn, os.getcwd())"
      ],
      "execution_count": 0,
      "outputs": []
    },
    {
      "cell_type": "code",
      "metadata": {
        "id": "cOFllMJm9Pe_",
        "colab_type": "code",
        "colab": {}
      },
      "source": [
        ""
      ],
      "execution_count": 0,
      "outputs": []
    },
    {
      "cell_type": "code",
      "metadata": {
        "id": "wBx-VbqMYEBo",
        "colab_type": "code",
        "colab": {}
      },
      "source": [
        "# Raw datasets are samples from WebHose.io \n",
        "print('Beginning dataset download with wget module')\n",
        "\n",
        "url = 'https://bardonski.pl/chineese.zip'\n",
        "wget.download(url)\n",
        "url = 'https://bardonski.pl/arabic.zip'\n",
        "wget.download(url)"
      ],
      "execution_count": 0,
      "outputs": []
    },
    {
      "cell_type": "code",
      "metadata": {
        "id": "iDlFmOkAKDBQ",
        "colab_type": "code",
        "colab": {}
      },
      "source": [
        "zip = ZipFile('chineese.zip')\n",
        "zip.extractall()\n",
        "\n",
        "!mkdir chineese\n",
        "\n",
        "zip = ZipFile('630_webhose-2016-10_20170904084325.zip')\n",
        "zip.extractall('chineese')"
      ],
      "execution_count": 0,
      "outputs": []
    },
    {
      "cell_type": "code",
      "metadata": {
        "id": "G37zDeifXwLf",
        "colab_type": "code",
        "colab": {}
      },
      "source": [
        "zip = ZipFile('arabic.zip')\n",
        "zip.extractall()\n",
        "\n",
        "!mkdir arabic\n",
        "\n",
        "zip = ZipFile('627_webhose-2016-10_20170904083346.zip')\n",
        "zip.extractall('arabic')"
      ],
      "execution_count": 0,
      "outputs": []
    },
    {
      "cell_type": "code",
      "metadata": {
        "id": "fLyn-jT-Y3JY",
        "colab_type": "code",
        "colab": {}
      },
      "source": [
        "#Expected 236384 arabic articles\n",
        "#Expected 316004 chineese articles\n",
        "!ls arabic -l | wc -l\n",
        "!ls chineese -l | wc -l\n"
      ],
      "execution_count": 0,
      "outputs": []
    },
    {
      "cell_type": "code",
      "metadata": {
        "id": "NbriaZfeaKr-",
        "colab_type": "code",
        "colab": {}
      },
      "source": [
        "# Thanks VibhuJawa\n",
        "def get_text(lines):\n",
        "    \"\"\"\n",
        "        returns non empty lines from a list of lines\n",
        "    \"\"\"\n",
        "    decoded = json.loads(lines[0])\n",
        "    clean_lines = decoded['text']\n",
        "    return [clean_lines]\n",
        "\n",
        "def get_txt_lines(data_dir):\n",
        "    \"\"\"\n",
        "        Read text lines from gutenberg tests\n",
        "        returns (text_ls,fname_ls) where \n",
        "        text_ls = input_text_lines and fname_ls = list of file names\n",
        "    \"\"\"\n",
        "    text_ls = []\n",
        "    fname_ls = []\n",
        "    for fn in os.listdir(data_dir):\n",
        "        full_fn = os.path.join(data_dir,fn)\n",
        "        with open(full_fn,encoding=\"utf-8\",errors=\"ignore\") as f:\n",
        "            content = f.readlines()\n",
        "            content = get_text(content)\n",
        "            if content is not None:\n",
        "                text_ls += content\n",
        "                ### dont add .txt to the file\n",
        "                fname_ls += [fn[:-4]]*len(content)\n",
        "        #return text_ls, fname_ls    \n",
        "    \n",
        "    return text_ls, fname_ls    \n",
        "    \n",
        "print(\"File Read Time:\")\n",
        "%time txt_ls,fname_ls = get_txt_lines('arabic')\n",
        "df = cudf.DataFrame()\n",
        "\n",
        "print(\"\\nCUDF  Creation Time:\")\n",
        "%time df['text'] = nvstrings.to_device(txt_ls)"
      ],
      "execution_count": 0,
      "outputs": []
    },
    {
      "cell_type": "code",
      "metadata": {
        "id": "RBIamb5gbd_O",
        "colab_type": "code",
        "colab": {}
      },
      "source": [
        "print(\"Number of lines in the DF = {:,}\".format(len(df)))"
      ],
      "execution_count": 0,
      "outputs": []
    },
    {
      "cell_type": "code",
      "metadata": {
        "id": "1fheBQLXhr-A",
        "colab_type": "code",
        "colab": {}
      },
      "source": [
        "df.head(10).to_pandas()"
      ],
      "execution_count": 0,
      "outputs": []
    },
    {
      "cell_type": "code",
      "metadata": {
        "id": "GEaGqGwcy6Au",
        "colab_type": "code",
        "colab": {}
      },
      "source": [
        "STOPWORDS = nltk.corpus.stopwords.words('arabic')\n",
        "\n",
        "filters = [ '!', '\"', '#', '$', '%', '&', '(', ')', '*', '+', '-', '.', '/',  '\\\\', ':', ';', '<', '=', '>',\n",
        "           '?', '@', '[', ']', '^', '_', '`', '{', '|', '}', '\\~', '\\t','\\\\n',\"'\",\",\",'~' , '—']\n",
        "\n",
        "def preprocess_text(input_strs , filters=None , stopwords=STOPWORDS):\n",
        "    \"\"\"\n",
        "        * filter punctuation\n",
        "        * to_lower\n",
        "        * remove stop words (from nltk corpus)\n",
        "        * remove multiple spaces with one\n",
        "        * remove leading spaces    \n",
        "    \"\"\"\n",
        "    \n",
        "    # filter punctuation and case conversion\n",
        "    input_strs = input_strs.str.replace_multi(filters, ' ', regex=False)\n",
        "    input_strs = input_strs.str.lower()\n",
        "        \n",
        "    # remove stopwords\n",
        "    stopwords_gpu = nvstrings.to_device(stopwords)\n",
        "    input_strs = nvtext.replace_tokens(input_strs.data, stopwords_gpu, ' ')\n",
        "    input_strs = cudf.Series(input_strs)\n",
        "        \n",
        "    # replace multiple spaces with single one and strip leading/trailing spaces\n",
        "    input_strs = input_strs.str.replace(r\"\\s+\", ' ', regex=True)\n",
        "    input_strs = input_strs.str.strip(' ')\n",
        "    \n",
        "    return input_strs\n",
        "\n",
        "def preprocess_text_df(df, text_cols=['text'], **kwargs):\n",
        "    for col in text_cols:\n",
        "        df[col] = preprocess_text(df[col], **kwargs)\n",
        "    return  df\n",
        "\n",
        "%time df = preprocess_text_df(df, filters=filters)"
      ],
      "execution_count": 0,
      "outputs": []
    },
    {
      "cell_type": "code",
      "metadata": {
        "id": "-FNhnzVazYi_",
        "colab_type": "code",
        "colab": {}
      },
      "source": [
        "df.head(5).to_pandas()"
      ],
      "execution_count": 0,
      "outputs": []
    },
    {
      "cell_type": "code",
      "metadata": {
        "id": "_oBSnlWUz2o3",
        "colab_type": "code",
        "colab": {}
      },
      "source": [
        "df2 = df.head(100000)"
      ],
      "execution_count": 0,
      "outputs": []
    },
    {
      "cell_type": "code",
      "metadata": {
        "id": "w64RIm__DRRG",
        "colab_type": "code",
        "colab": {}
      },
      "source": [
        "df2.to_pandas()"
      ],
      "execution_count": 0,
      "outputs": []
    },
    {
      "cell_type": "code",
      "metadata": {
        "id": "RHgMOTlfDSsr",
        "colab_type": "code",
        "colab": {}
      },
      "source": [
        "sum(df2['text'].str.find('بيتكوين'))"
      ],
      "execution_count": 0,
      "outputs": []
    },
    {
      "cell_type": "code",
      "metadata": {
        "id": "yFdU0IN3DeHt",
        "colab_type": "code",
        "colab": {}
      },
      "source": [
        "\n"
      ],
      "execution_count": 0,
      "outputs": []
    },
    {
      "cell_type": "code",
      "metadata": {
        "id": "byuQADklI5dx",
        "colab_type": "code",
        "colab": {}
      },
      "source": [
        "#Arabic word vectors (fasttext.cc)\n",
        "url = 'https://dl.fbaipublicfiles.com/fasttext/vectors-crawl/cc.ar.300.vec.gz'\n",
        "wget.download(url)\n"
      ],
      "execution_count": 0,
      "outputs": []
    },
    {
      "cell_type": "code",
      "metadata": {
        "id": "LrjDHohlZxdE",
        "colab_type": "code",
        "colab": {}
      },
      "source": [
        "pre_df = cudf.read_csv(\"glove.6B.50d.txt\",\n",
        "                       header=None,\n",
        "                       delim_whitespace=True,\n",
        "                       quoting=3)  #ignore quoting\n",
        "print(pre_df.head())"
      ],
      "execution_count": 0,
      "outputs": []
    }
  ]
}