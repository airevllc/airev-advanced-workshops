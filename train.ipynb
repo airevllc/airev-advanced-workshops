{
  "nbformat": 4,
  "nbformat_minor": 0,
  "metadata": {
    "colab": {
      "name": "train.ipynb",
      "provenance": [],
      "collapsed_sections": [],
      "machine_shape": "hm",
      "include_colab_link": true
    },
    "kernelspec": {
      "name": "python3",
      "display_name": "Python 3"
    },
    "accelerator": "GPU"
  },
  "cells": [
    {
      "cell_type": "markdown",
      "metadata": {
        "id": "view-in-github",
        "colab_type": "text"
      },
      "source": [
        "<a href=\"https://colab.research.google.com/github/marek-bardonski/airev-advanced-workshops/blob/master/train.ipynb\" target=\"_parent\"><img src=\"https://colab.research.google.com/assets/colab-badge.svg\" alt=\"Open In Colab\"/></a>"
      ]
    },
    {
      "cell_type": "code",
      "metadata": {
        "id": "jn_KXjFSemkG",
        "colab_type": "code",
        "outputId": "3bebc550-6bc8-4deb-f93c-171f2ca53e15",
        "colab": {
          "base_uri": "https://localhost:8080/",
          "height": 1000
        }
      },
      "source": [
        "# AI REV LLC - Copyrights 2020\n",
        "# [Google Colab] Change runtime mode to GPU\n",
        "# https://docs.rapids.ai/\n",
        "\n",
        "!nvcc --version\n",
        "!pip3 install wget\n",
        "\n",
        "# https://github.com/rapidsai/cudf/issues/3390\n",
        "!pip3 install pyarrow==0.15.0 ## Workaround to cover up for Google Colab bug\n",
        "\n",
        "#!pip3 install cudf-cuda100\n",
        "#!pip3 install nvstrings-cuda100\n",
        "#!pip3 install cuml-cuda100\n",
        "#!pip3 install nvvm-cuda100\n",
        "\n",
        "# RAPIDS installation script. Thanks Ritchie Ng and NVIDIA Corporation.\n",
        "# intall miniconda\n",
        "!wget -c https://repo.continuum.io/miniconda/Miniconda3-4.5.4-Linux-x86_64.sh\n",
        "!chmod +x Miniconda3-4.5.4-Linux-x86_64.sh\n",
        "!bash ./Miniconda3-4.5.4-Linux-x86_64.sh -b -f -p /usr/local\n",
        "\n",
        "# install RAPIDS packages\n",
        "!conda install -q -y --prefix /usr/local -c conda-forge \\\n",
        "  -c rapidsai-nightly/label/cuda10.0 -c nvidia/label/cuda10.0 \\\n",
        "  cudf cuml"
      ],
      "execution_count": 1,
      "outputs": [
        {
          "output_type": "stream",
          "text": [
            "nvcc: NVIDIA (R) Cuda compiler driver\n",
            "Copyright (c) 2005-2018 NVIDIA Corporation\n",
            "Built on Sat_Aug_25_21:08:01_CDT_2018\n",
            "Cuda compilation tools, release 10.0, V10.0.130\n",
            "Requirement already satisfied: wget in /usr/local/lib/python3.6/dist-packages (3.2)\n",
            "Requirement already satisfied: pyarrow==0.15.0 in /usr/local/lib/python3.6/dist-packages (0.15.0)\n",
            "Requirement already satisfied: six>=1.0.0 in /usr/local/lib/python3.6/dist-packages (from pyarrow==0.15.0) (1.12.0)\n",
            "Requirement already satisfied: numpy>=1.14 in /usr/local/lib/python3.6/dist-packages (from pyarrow==0.15.0) (1.17.4)\n",
            "--2020-01-02 21:09:01--  https://repo.continuum.io/miniconda/Miniconda3-4.5.4-Linux-x86_64.sh\n",
            "Resolving repo.continuum.io (repo.continuum.io)... 104.18.200.79, 104.18.201.79, 2606:4700::6812:c84f, ...\n",
            "Connecting to repo.continuum.io (repo.continuum.io)|104.18.200.79|:443... connected.\n",
            "HTTP request sent, awaiting response... 416 Requested Range Not Satisfiable\n",
            "\n",
            "    The file is already fully retrieved; nothing to do.\n",
            "\n",
            "PREFIX=/usr/local\n",
            "installing: python-3.6.5-hc3d631a_2 ...\n",
            "Python 3.6.5 :: Anaconda, Inc.\n",
            "installing: ca-certificates-2018.03.07-0 ...\n",
            "installing: conda-env-2.6.0-h36134e3_1 ...\n",
            "installing: libgcc-ng-7.2.0-hdf63c60_3 ...\n",
            "installing: libstdcxx-ng-7.2.0-hdf63c60_3 ...\n",
            "installing: libffi-3.2.1-hd88cf55_4 ...\n",
            "installing: ncurses-6.1-hf484d3e_0 ...\n",
            "installing: openssl-1.0.2o-h20670df_0 ...\n",
            "installing: tk-8.6.7-hc745277_3 ...\n",
            "installing: xz-5.2.4-h14c3975_4 ...\n",
            "installing: yaml-0.1.7-had09818_2 ...\n",
            "installing: zlib-1.2.11-ha838bed_2 ...\n",
            "installing: libedit-3.1.20170329-h6b74fdf_2 ...\n",
            "installing: readline-7.0-ha6073c6_4 ...\n",
            "installing: sqlite-3.23.1-he433501_0 ...\n",
            "installing: asn1crypto-0.24.0-py36_0 ...\n",
            "installing: certifi-2018.4.16-py36_0 ...\n",
            "installing: chardet-3.0.4-py36h0f667ec_1 ...\n",
            "installing: idna-2.6-py36h82fb2a8_1 ...\n",
            "installing: pycosat-0.6.3-py36h0a5515d_0 ...\n",
            "installing: pycparser-2.18-py36hf9f622e_1 ...\n",
            "installing: pysocks-1.6.8-py36_0 ...\n",
            "installing: ruamel_yaml-0.15.37-py36h14c3975_2 ...\n",
            "installing: six-1.11.0-py36h372c433_1 ...\n",
            "installing: cffi-1.11.5-py36h9745a5d_0 ...\n",
            "installing: setuptools-39.2.0-py36_0 ...\n",
            "installing: cryptography-2.2.2-py36h14c3975_0 ...\n",
            "installing: wheel-0.31.1-py36_0 ...\n",
            "installing: pip-10.0.1-py36_0 ...\n",
            "installing: pyopenssl-18.0.0-py36_0 ...\n",
            "installing: urllib3-1.22-py36hbe7ace6_0 ...\n",
            "installing: requests-2.18.4-py36he2e5f8d_1 ...\n",
            "installing: conda-4.5.4-py36_0 ...\n",
            "unlinking: ca-certificates-2019.11.28-hecc5488_0\n",
            "unlinking: certifi-2019.11.28-py37_0\n",
            "unlinking: libffi-3.2.1-he1b5a44_1006\n",
            "unlinking: libgcc-ng-9.2.0-hdf63c60_0\n",
            "unlinking: libstdcxx-ng-9.2.0-hdf63c60_0\n",
            "unlinking: ncurses-6.1-hf484d3e_1002\n",
            "unlinking: openssl-1.1.1d-h516909a_0\n",
            "unlinking: pip-19.3.1-py37_0\n",
            "unlinking: python-3.7.6-h357f687_1\n",
            "unlinking: readline-8.0-hf8c457e_0\n",
            "unlinking: setuptools-44.0.0-py37_0\n",
            "unlinking: six-1.13.0-py37_0\n",
            "unlinking: sqlite-3.30.1-hcee41ef_0\n",
            "unlinking: tk-8.6.10-hed695b0_0\n",
            "unlinking: wheel-0.33.6-py37_0\n",
            "unlinking: xz-5.2.4-h14c3975_1001\n",
            "unlinking: zlib-1.2.11-h516909a_1006\n",
            "installation finished.\n",
            "WARNING:\n",
            "    You currently have a PYTHONPATH environment variable set. This may cause\n",
            "    unexpected behavior when running the Python interpreter in Miniconda3.\n",
            "    For best results, please verify that your PYTHONPATH only points to\n",
            "    directories of packages that are compatible with the Python interpreter\n",
            "    in Miniconda3: /usr/local\n",
            "Solving environment: ...working... done\n",
            "\n",
            "## Package Plan ##\n",
            "\n",
            "  environment location: /usr/local\n",
            "\n",
            "  added / updated specs: \n",
            "    - cudf\n",
            "    - cuml\n",
            "\n",
            "\n",
            "The following packages will be downloaded:\n",
            "\n",
            "    package                    |            build\n",
            "    ---------------------------|-----------------\n",
            "    llvmlite-0.30.0            |   py36h8b12597_1         337 KB  conda-forge\n",
            "    arrow-cpp-0.15.0           |   py36h090bef1_2        18.1 MB  conda-forge\n",
            "    cuml-0.11.0a1191204        |cuda10.0_py36_1141         8.4 MB  rapidsai-nightly/label/cuda10.0\n",
            "    python-3.6.7               |    h381d211_1004        34.5 MB  conda-forge\n",
            "    cudf-0.11.0a191205         |        py36_3934         7.9 MB  rapidsai-nightly/label/cuda10.0\n",
            "    pyarrow-0.15.0             |   py36h8b68381_1         3.2 MB  conda-forge\n",
            "    conda-package-handling-1.6.0|   py36h516909a_1         941 KB  conda-forge\n",
            "    fastavro-0.22.9            |   py36h516909a_0         409 KB  conda-forge\n",
            "    numpy-1.17.3               |   py36h95a1406_0         5.2 MB  conda-forge\n",
            "    tqdm-4.41.1                |             py_0          45 KB  conda-forge\n",
            "    nvstrings-0.11.0a191205    |        py36_3934         128 KB  rapidsai-nightly/label/cuda10.0\n",
            "    fastrlock-0.4              |py36he1b5a44_1000          32 KB  conda-forge\n",
            "    pandas-0.24.2              |   py36hb3f55d8_1        11.1 MB  conda-forge\n",
            "    numba-0.46.0               |   py36hb3f55d8_1         3.3 MB  conda-forge\n",
            "    conda-4.8.0                |           py36_1         3.0 MB  conda-forge\n",
            "    cryptography-2.8           |   py36h72c5cf5_1         616 KB  conda-forge\n",
            "    rmm-0.11.0b191205          |          py36_72         278 KB  rapidsai-nightly/label/cuda10.0\n",
            "    certifi-2019.11.28         |           py36_0         149 KB  conda-forge\n",
            "    sqlite-3.28.0              |       h8b20d00_0         1.9 MB  conda-forge\n",
            "    cupy-6.6.0                 |   py36h809cb0f_1        14.5 MB  conda-forge\n",
            "    ------------------------------------------------------------\n",
            "                                           Total:       114.0 MB\n",
            "\n",
            "The following NEW packages will be INSTALLED:\n",
            "\n",
            "    conda-package-handling: 1.6.0-py36h516909a_1              conda-forge                    \n",
            "    tqdm:                   4.41.1-py_0                       conda-forge                    \n",
            "\n",
            "The following packages will be UPDATED:\n",
            "\n",
            "    arrow-cpp:              0.15.0-py37h090bef1_2             conda-forge                     --> 0.15.0-py36h090bef1_2             conda-forge                    \n",
            "    ca-certificates:        2018.03.07-0                                                      --> 2019.11.28-hecc5488_0             conda-forge                    \n",
            "    certifi:                2018.4.16-py36_0                                                  --> 2019.11.28-py36_0                 conda-forge                    \n",
            "    conda:                  4.5.4-py36_0                                                      --> 4.8.0-py36_1                      conda-forge                    \n",
            "    cryptography:           2.2.2-py36h14c3975_0                                              --> 2.8-py36h72c5cf5_1                conda-forge                    \n",
            "    cudf:                   0.11.0a191205-py37_3934           rapidsai-nightly/label/cuda10.0 --> 0.11.0a191205-py36_3934           rapidsai-nightly/label/cuda10.0\n",
            "    cuml:                   0.11.0a1191204-cuda10.0_py37_1141 rapidsai-nightly/label/cuda10.0 --> 0.11.0a1191204-cuda10.0_py36_1141 rapidsai-nightly/label/cuda10.0\n",
            "    cupy:                   6.6.0-py37h809cb0f_1              conda-forge                     --> 6.6.0-py36h809cb0f_1              conda-forge                    \n",
            "    fastavro:               0.22.9-py37h516909a_0             conda-forge                     --> 0.22.9-py36h516909a_0             conda-forge                    \n",
            "    fastrlock:              0.4-py37he1b5a44_1000             conda-forge                     --> 0.4-py36he1b5a44_1000             conda-forge                    \n",
            "    libgcc-ng:              7.2.0-hdf63c60_3                                                  --> 9.2.0-hdf63c60_0                  conda-forge                    \n",
            "    libstdcxx-ng:           7.2.0-hdf63c60_3                                                  --> 9.2.0-hdf63c60_0                  conda-forge                    \n",
            "    llvmlite:               0.30.0-py37h8b12597_1             conda-forge                     --> 0.30.0-py36h8b12597_1             conda-forge                    \n",
            "    numba:                  0.46.0-py37hb3f55d8_1             conda-forge                     --> 0.46.0-py36hb3f55d8_1             conda-forge                    \n",
            "    numpy:                  1.17.3-py37h95a1406_0             conda-forge                     --> 1.17.3-py36h95a1406_0             conda-forge                    \n",
            "    nvstrings:              0.11.0a191205-py37_3934           rapidsai-nightly/label/cuda10.0 --> 0.11.0a191205-py36_3934           rapidsai-nightly/label/cuda10.0\n",
            "    openssl:                1.0.2o-h20670df_0                                                 --> 1.1.1d-h516909a_0                 conda-forge                    \n",
            "    pandas:                 0.24.2-py37hb3f55d8_1             conda-forge                     --> 0.24.2-py36hb3f55d8_1             conda-forge                    \n",
            "    pyarrow:                0.15.0-py37h8b68381_1             conda-forge                     --> 0.15.0-py36h8b68381_1             conda-forge                    \n",
            "    python:                 3.6.5-hc3d631a_2                                                  --> 3.6.7-h381d211_1004               conda-forge                    \n",
            "    rmm:                    0.11.0b191205-py37_72             rapidsai-nightly/label/cuda10.0 --> 0.11.0b191205-py36_72             rapidsai-nightly/label/cuda10.0\n",
            "    sqlite:                 3.23.1-he433501_0                                                 --> 3.28.0-h8b20d00_0                 conda-forge                    \n",
            "    tk:                     8.6.7-hc745277_3                                                  --> 8.6.10-hed695b0_0                 conda-forge                    \n",
            "\n",
            "Preparing transaction: ...working... done\n",
            "Verifying transaction: ...working... done\n",
            "Executing transaction: ...working... done\n"
          ],
          "name": "stdout"
        }
      ]
    },
    {
      "cell_type": "markdown",
      "metadata": {
        "id": "_feLB_gSiQo4",
        "colab_type": "text"
      },
      "source": [
        "**Remember to restart the runtime at this moment and restart the procedure from the top.** \n",
        "\n"
      ]
    },
    {
      "cell_type": "code",
      "metadata": {
        "id": "ET1uPRNm4TSc",
        "colab_type": "code",
        "colab": {}
      },
      "source": [
        "# set environment vars\n",
        "import sys, os, shutil\n",
        "\n",
        "sys.path.append('/usr/local/lib/python3.6/site-packages/')\n",
        "sys.path.append('/usr/local/')\n",
        "os.environ['NUMBAPRO_NVVM'] = '/usr/local/cuda/nvvm/lib64/libnvvm.so'\n",
        "os.environ['NUMBAPRO_LIBDEVICE'] = '/usr/local/cuda/nvvm/libdevice/'\n",
        "\n",
        "# copy .so files to current working dir\n",
        "for fn in ['libcudf.so', 'librmm.so']:\n",
        "  shutil.copy('/usr/local/lib/'+fn, os.getcwd())\n",
        "\n",
        "import wget\n",
        "from zipfile import ZipFile\n",
        "import os\n",
        "import cudf\n",
        "import sys, os\n",
        "import nvcategory\n",
        "import os\n",
        "import numpy as np\n",
        "#import cuml (bug https://gitmemory.com/issue/rapidsai/cuml/404/477551898)\n",
        "import nvstrings\n",
        "import nltk\n",
        "from numba import cuda\n",
        "import json\n",
        "import nvtext\n",
        "import ctypes\n",
        "import numpy as np\n",
        "import torch\n",
        "from torch import nn, optim\n",
        "from torch.autograd import Variable\n",
        "from torch.utils.data import TensorDataset, DataLoader\n",
        "torch.cuda.is_available()"
      ],
      "execution_count": 0,
      "outputs": []
    },
    {
      "cell_type": "code",
      "metadata": {
        "id": "cOFllMJm9Pe_",
        "colab_type": "code",
        "colab": {}
      },
      "source": [
        ""
      ],
      "execution_count": 0,
      "outputs": []
    },
    {
      "cell_type": "markdown",
      "metadata": {
        "id": "AmPAza7yBe5z",
        "colab_type": "text"
      },
      "source": [
        "**If you got import errors, please look above or ask instructor.**"
      ]
    },
    {
      "cell_type": "code",
      "metadata": {
        "id": "wBx-VbqMYEBo",
        "colab_type": "code",
        "colab": {
          "base_uri": "https://localhost:8080/",
          "height": 68
        },
        "outputId": "bd135f53-8789-4eb0-87ee-d4b54d7cf9d9"
      },
      "source": [
        "# Raw datasets are samples from WebHose.io \n",
        "print('Beginning dataset download with wget module')\n",
        "\n",
        "url = 'https://bardonski.pl/chineese.zip'\n",
        "wget.download(url)\n",
        "url = 'https://bardonski.pl/arabic.zip'\n",
        "wget.download(url)\n",
        "url = 'https://bardonski.pl/arabic-true-pr.csv'\n",
        "wget.download(url)\n",
        "\n",
        "print('Beginning word vectors download with wget module')\n",
        "url = 'https://dl.fbaipublicfiles.com/fasttext/vectors-crawl/cc.ar.300.vec.gz'\n",
        "print('Word vectors unzip')\n",
        "wget.download(url)\n",
        "!gzip -d cc.ar.300.vec.gz"
      ],
      "execution_count": 3,
      "outputs": [
        {
          "output_type": "stream",
          "text": [
            "Beginning dataset download with wget module\n",
            "Beginning word vectors download with wget module\n",
            "Word vectors unzip\n"
          ],
          "name": "stdout"
        }
      ]
    },
    {
      "cell_type": "code",
      "metadata": {
        "id": "iDlFmOkAKDBQ",
        "colab_type": "code",
        "colab": {}
      },
      "source": [
        "zip = ZipFile('chineese.zip')\n",
        "zip.extractall()\n",
        "\n",
        "!mkdir chineese\n",
        "\n",
        "zip = ZipFile('630_webhose-2016-10_20170904084325.zip')\n",
        "zip.extractall('chineese')"
      ],
      "execution_count": 0,
      "outputs": []
    },
    {
      "cell_type": "code",
      "metadata": {
        "id": "G37zDeifXwLf",
        "colab_type": "code",
        "colab": {}
      },
      "source": [
        "zip = ZipFile('arabic.zip')\n",
        "zip.extractall()\n",
        "\n",
        "!mkdir arabic\n",
        "\n",
        "zip = ZipFile('627_webhose-2016-10_20170904083346.zip')\n",
        "zip.extractall('arabic')\n",
        "\n"
      ],
      "execution_count": 0,
      "outputs": []
    },
    {
      "cell_type": "code",
      "metadata": {
        "id": "fLyn-jT-Y3JY",
        "colab_type": "code",
        "colab": {
          "base_uri": "https://localhost:8080/",
          "height": 51
        },
        "outputId": "0c72708a-6ebd-4858-c7c6-318e2b50b336"
      },
      "source": [
        "#Expected 236384 arabic articles\n",
        "#Expected 316004 chineese articles\n",
        "!ls arabic -l | wc -l\n",
        "!ls chineese -l | wc -l\n"
      ],
      "execution_count": 6,
      "outputs": [
        {
          "output_type": "stream",
          "text": [
            "236384\n",
            "316004\n"
          ],
          "name": "stdout"
        }
      ]
    },
    {
      "cell_type": "code",
      "metadata": {
        "id": "OjkkjECXGYsO",
        "colab_type": "code",
        "colab": {
          "base_uri": "https://localhost:8080/",
          "height": 68
        },
        "outputId": "262483c2-2882-44e9-e756-5a489dda2953"
      },
      "source": [
        "nltk.download('stopwords')"
      ],
      "execution_count": 7,
      "outputs": [
        {
          "output_type": "stream",
          "text": [
            "[nltk_data] Downloading package stopwords to /root/nltk_data...\n",
            "[nltk_data]   Unzipping corpora/stopwords.zip.\n"
          ],
          "name": "stdout"
        },
        {
          "output_type": "execute_result",
          "data": {
            "text/plain": [
              "True"
            ]
          },
          "metadata": {
            "tags": []
          },
          "execution_count": 7
        }
      ]
    },
    {
      "cell_type": "code",
      "metadata": {
        "id": "NbriaZfeaKr-",
        "colab_type": "code",
        "colab": {
          "base_uri": "https://localhost:8080/",
          "height": 136
        },
        "outputId": "c22f8abb-b039-44d4-fabd-634990dec12f"
      },
      "source": [
        "# Thanks VibhuJawa\n",
        "def get_text(lines):\n",
        "    \"\"\"\n",
        "        returns non empty lines from a list of lines\n",
        "    \"\"\"\n",
        "    decoded = json.loads(lines[0])\n",
        "    clean_lines = decoded['text']\n",
        "    return [clean_lines]\n",
        "\n",
        "def get_txt_lines(data_dir):\n",
        "    \"\"\"\n",
        "        Read text lines from gutenberg tests\n",
        "        returns (text_ls,fname_ls) where \n",
        "        text_ls = input_text_lines and fname_ls = list of file names\n",
        "    \"\"\"\n",
        "    text_ls = []\n",
        "    fname_ls = []\n",
        "    for fn in os.listdir(data_dir):\n",
        "        full_fn = os.path.join(data_dir,fn)\n",
        "        with open(full_fn,encoding=\"utf-8\",errors=\"ignore\") as f:\n",
        "            content = f.readlines()\n",
        "            content = get_text(content)\n",
        "            if content is not None:\n",
        "                text_ls += content\n",
        "                ### dont add .txt to the file\n",
        "                fname_ls += [fn[:-4]]*len(content)\n",
        "        #return text_ls, fname_ls    \n",
        "    \n",
        "    return text_ls, fname_ls    \n",
        "    \n",
        "print(\"File Read Time:\")\n",
        "%time txt_ls,fname_ls = get_txt_lines('arabic')\n",
        "df = cudf.DataFrame()\n",
        "\n",
        "print(\"\\nCUDF  Creation Time:\")\n",
        "%time df['text'] = nvstrings.to_device(txt_ls)"
      ],
      "execution_count": 8,
      "outputs": [
        {
          "output_type": "stream",
          "text": [
            "File Read Time:\n",
            "CPU times: user 12.3 s, sys: 2.7 s, total: 15 s\n",
            "Wall time: 15.1 s\n",
            "\n",
            "CUDF  Creation Time:\n",
            "CPU times: user 2.43 s, sys: 876 ms, total: 3.31 s\n",
            "Wall time: 3.39 s\n"
          ],
          "name": "stdout"
        }
      ]
    },
    {
      "cell_type": "code",
      "metadata": {
        "id": "RBIamb5gbd_O",
        "colab_type": "code",
        "colab": {
          "base_uri": "https://localhost:8080/",
          "height": 34
        },
        "outputId": "91db156b-3329-48e3-8a65-abb2ae84837e"
      },
      "source": [
        "print(\"Number of lines in the DF = {:,}\".format(len(df)))"
      ],
      "execution_count": 9,
      "outputs": [
        {
          "output_type": "stream",
          "text": [
            "Number of lines in the DF = 236,383\n"
          ],
          "name": "stdout"
        }
      ]
    },
    {
      "cell_type": "code",
      "metadata": {
        "id": "1fheBQLXhr-A",
        "colab_type": "code",
        "colab": {
          "base_uri": "https://localhost:8080/",
          "height": 359
        },
        "outputId": "a9ae546f-6a67-472f-ca26-506aebc6f3a3"
      },
      "source": [
        "df.head(10).to_pandas()"
      ],
      "execution_count": 10,
      "outputs": [
        {
          "output_type": "execute_result",
          "data": {
            "text/html": [
              "<div>\n",
              "<style scoped>\n",
              "    .dataframe tbody tr th:only-of-type {\n",
              "        vertical-align: middle;\n",
              "    }\n",
              "\n",
              "    .dataframe tbody tr th {\n",
              "        vertical-align: top;\n",
              "    }\n",
              "\n",
              "    .dataframe thead th {\n",
              "        text-align: right;\n",
              "    }\n",
              "</style>\n",
              "<table border=\"1\" class=\"dataframe\">\n",
              "  <thead>\n",
              "    <tr style=\"text-align: right;\">\n",
              "      <th></th>\n",
              "      <th>text</th>\n",
              "    </tr>\n",
              "  </thead>\n",
              "  <tbody>\n",
              "    <tr>\n",
              "      <th>0</th>\n",
              "      <td>أعربت الأمم المتحدة عن «قلقها البالغ» جراء أمن...</td>\n",
              "    </tr>\n",
              "    <tr>\n",
              "      <th>1</th>\n",
              "      <td>كتب رامى ناجى \\nهنأ المهندس خالد عبد العزيز وز...</td>\n",
              "    </tr>\n",
              "    <tr>\n",
              "      <th>2</th>\n",
              "      <td>تعاني الكثيرات من مشكلة تساقط الشعر وتقصفه، وا...</td>\n",
              "    </tr>\n",
              "    <tr>\n",
              "      <th>3</th>\n",
              "      <td>السفير الكويتي يستقبل مسؤولي جمعية إطعام \\nا...</td>\n",
              "    </tr>\n",
              "    <tr>\n",
              "      <th>4</th>\n",
              "      <td>حث أحمد مرتضى منصور، عضو مجلس الزمالك، والمشرف...</td>\n",
              "    </tr>\n",
              "    <tr>\n",
              "      <th>5</th>\n",
              "      <td>19 أكتوبر 2016-12:11 pm محاكمة محمد مرسي \\nقضت...</td>\n",
              "    </tr>\n",
              "    <tr>\n",
              "      <th>6</th>\n",
              "      <td>كتبت زينب عبد المنعم يعد مساعد جوجل واحدا من أ...</td>\n",
              "    </tr>\n",
              "    <tr>\n",
              "      <th>7</th>\n",
              "      <td>إصابة مجند برصاص إرهابيين في اشتباكات بجنوب ال...</td>\n",
              "    </tr>\n",
              "    <tr>\n",
              "      <th>8</th>\n",
              "      <td>الإسكندرية – أسماء على بدر عقدت كلية العلوم جا...</td>\n",
              "    </tr>\n",
              "    <tr>\n",
              "      <th>9</th>\n",
              "      <td>رفض طلب رد قاضى أحداث الإرشاد وتغريم البلتاجى ...</td>\n",
              "    </tr>\n",
              "  </tbody>\n",
              "</table>\n",
              "</div>"
            ],
            "text/plain": [
              "                                                text\n",
              "0  أعربت الأمم المتحدة عن «قلقها البالغ» جراء أمن...\n",
              "1  كتب رامى ناجى \\nهنأ المهندس خالد عبد العزيز وز...\n",
              "2  تعاني الكثيرات من مشكلة تساقط الشعر وتقصفه، وا...\n",
              "3    السفير الكويتي يستقبل مسؤولي جمعية إطعام \\nا...\n",
              "4  حث أحمد مرتضى منصور، عضو مجلس الزمالك، والمشرف...\n",
              "5  19 أكتوبر 2016-12:11 pm محاكمة محمد مرسي \\nقضت...\n",
              "6  كتبت زينب عبد المنعم يعد مساعد جوجل واحدا من أ...\n",
              "7  إصابة مجند برصاص إرهابيين في اشتباكات بجنوب ال...\n",
              "8  الإسكندرية – أسماء على بدر عقدت كلية العلوم جا...\n",
              "9  رفض طلب رد قاضى أحداث الإرشاد وتغريم البلتاجى ..."
            ]
          },
          "metadata": {
            "tags": []
          },
          "execution_count": 10
        }
      ]
    },
    {
      "cell_type": "code",
      "metadata": {
        "id": "I27N1RRSDDWH",
        "colab_type": "code",
        "colab": {}
      },
      "source": [
        ""
      ],
      "execution_count": 0,
      "outputs": []
    },
    {
      "cell_type": "code",
      "metadata": {
        "id": "GEaGqGwcy6Au",
        "colab_type": "code",
        "colab": {
          "base_uri": "https://localhost:8080/",
          "height": 51
        },
        "outputId": "c2522ed1-867e-420f-d784-df48fb774df3"
      },
      "source": [
        "STOPWORDS = nltk.corpus.stopwords.words('arabic')\n",
        "\n",
        "filters = [ '!', '\"', '#', '$', '%', '&', '(', ')', '*', '+', '-', '.', '/',  '\\\\', ':', ';', '<', '=', '>',\n",
        "           '?', '@', '[', ']', '^', '_', '`', '{', '|', '}', '\\~', '\\t','\\\\n',\"'\",\",\",'~' , '—']\n",
        "\n",
        "def preprocess_text(input_strs , filters=None , stopwords=STOPWORDS):\n",
        "    \"\"\"\n",
        "        * filter punctuation\n",
        "        * to_lower\n",
        "        * remove stop words (from nltk corpus)\n",
        "        * remove multiple spaces with one\n",
        "        * remove leading spaces    \n",
        "    \"\"\"\n",
        "    \n",
        "    # filter punctuation and case conversion\n",
        "    input_strs = input_strs.str.replace_multi(filters, ' ', regex=False)\n",
        "    input_strs = input_strs.str.lower()\n",
        "        \n",
        "    # remove stopwords\n",
        "    stopwords_gpu = nvstrings.to_device(stopwords)\n",
        "    input_strs = nvtext.replace_tokens(input_strs.data, stopwords_gpu, ' ')\n",
        "    input_strs = cudf.Series(input_strs)\n",
        "        \n",
        "    # replace multiple spaces with single one and strip leading/trailing spaces\n",
        "    input_strs = input_strs.str.replace(r\"\\s+\", ' ', regex=True)\n",
        "    input_strs = input_strs.str.strip(' ')\n",
        "    \n",
        "    return input_strs\n",
        "\n",
        "def preprocess_text_df(df, text_cols=['text'], **kwargs):\n",
        "    for col in text_cols:\n",
        "        df[col] = preprocess_text(df[col], **kwargs)\n",
        "    return  df\n",
        "\n",
        "%time df = preprocess_text_df(df, filters=filters)"
      ],
      "execution_count": 11,
      "outputs": [
        {
          "output_type": "stream",
          "text": [
            "CPU times: user 2min 52s, sys: 2min 4s, total: 4min 57s\n",
            "Wall time: 4min 57s\n"
          ],
          "name": "stdout"
        }
      ]
    },
    {
      "cell_type": "code",
      "metadata": {
        "id": "-FNhnzVazYi_",
        "colab_type": "code",
        "colab": {
          "base_uri": "https://localhost:8080/",
          "height": 204
        },
        "outputId": "0ca839f3-f2be-4e4c-d8c8-a1c269307924"
      },
      "source": [
        "df.head(5).to_pandas()"
      ],
      "execution_count": 17,
      "outputs": [
        {
          "output_type": "execute_result",
          "data": {
            "text/html": [
              "<div>\n",
              "<style scoped>\n",
              "    .dataframe tbody tr th:only-of-type {\n",
              "        vertical-align: middle;\n",
              "    }\n",
              "\n",
              "    .dataframe tbody tr th {\n",
              "        vertical-align: top;\n",
              "    }\n",
              "\n",
              "    .dataframe thead th {\n",
              "        text-align: right;\n",
              "    }\n",
              "</style>\n",
              "<table border=\"1\" class=\"dataframe\">\n",
              "  <thead>\n",
              "    <tr style=\"text-align: right;\">\n",
              "      <th></th>\n",
              "      <th>text</th>\n",
              "    </tr>\n",
              "  </thead>\n",
              "  <tbody>\n",
              "    <tr>\n",
              "      <th>0</th>\n",
              "      <td>أعربت الأمم المتحدة «قلقها البالغ» جراء أمن يص...</td>\n",
              "    </tr>\n",
              "    <tr>\n",
              "      <th>1</th>\n",
              "      <td>كتب رامى ناجى هنأ المهندس خالد عبد العزيز وزير...</td>\n",
              "    </tr>\n",
              "    <tr>\n",
              "      <th>2</th>\n",
              "      <td>تعاني الكثيرات مشكلة تساقط الشعر وتقصفه، يكون ...</td>\n",
              "    </tr>\n",
              "    <tr>\n",
              "      <th>3</th>\n",
              "      <td>السفير الكويتي يستقبل مسؤولي جمعية إطعام الريا...</td>\n",
              "    </tr>\n",
              "    <tr>\n",
              "      <th>4</th>\n",
              "      <td>حث أحمد مرتضى منصور، عضو مجلس الزمالك، والمشرف...</td>\n",
              "    </tr>\n",
              "  </tbody>\n",
              "</table>\n",
              "</div>"
            ],
            "text/plain": [
              "                                                text\n",
              "0  أعربت الأمم المتحدة «قلقها البالغ» جراء أمن يص...\n",
              "1  كتب رامى ناجى هنأ المهندس خالد عبد العزيز وزير...\n",
              "2  تعاني الكثيرات مشكلة تساقط الشعر وتقصفه، يكون ...\n",
              "3  السفير الكويتي يستقبل مسؤولي جمعية إطعام الريا...\n",
              "4  حث أحمد مرتضى منصور، عضو مجلس الزمالك، والمشرف..."
            ]
          },
          "metadata": {
            "tags": []
          },
          "execution_count": 17
        }
      ]
    },
    {
      "cell_type": "code",
      "metadata": {
        "id": "_oBSnlWUz2o3",
        "colab_type": "code",
        "colab": {}
      },
      "source": [
        "SAMPLE_SIZE = 10000\n",
        "df2 = df.head(SAMPLE_SIZE)"
      ],
      "execution_count": 0,
      "outputs": []
    },
    {
      "cell_type": "code",
      "metadata": {
        "id": "w64RIm__DRRG",
        "colab_type": "code",
        "colab": {
          "base_uri": "https://localhost:8080/",
          "height": 419
        },
        "outputId": "7dbafa39-c3a6-4c36-ff0d-d4a92f3e3002"
      },
      "source": [
        "df2.to_pandas()"
      ],
      "execution_count": 14,
      "outputs": [
        {
          "output_type": "execute_result",
          "data": {
            "text/html": [
              "<div>\n",
              "<style scoped>\n",
              "    .dataframe tbody tr th:only-of-type {\n",
              "        vertical-align: middle;\n",
              "    }\n",
              "\n",
              "    .dataframe tbody tr th {\n",
              "        vertical-align: top;\n",
              "    }\n",
              "\n",
              "    .dataframe thead th {\n",
              "        text-align: right;\n",
              "    }\n",
              "</style>\n",
              "<table border=\"1\" class=\"dataframe\">\n",
              "  <thead>\n",
              "    <tr style=\"text-align: right;\">\n",
              "      <th></th>\n",
              "      <th>text</th>\n",
              "    </tr>\n",
              "  </thead>\n",
              "  <tbody>\n",
              "    <tr>\n",
              "      <th>0</th>\n",
              "      <td>أعربت الأمم المتحدة «قلقها البالغ» جراء أمن يص...</td>\n",
              "    </tr>\n",
              "    <tr>\n",
              "      <th>1</th>\n",
              "      <td>كتب رامى ناجى هنأ المهندس خالد عبد العزيز وزير...</td>\n",
              "    </tr>\n",
              "    <tr>\n",
              "      <th>2</th>\n",
              "      <td>تعاني الكثيرات مشكلة تساقط الشعر وتقصفه، يكون ...</td>\n",
              "    </tr>\n",
              "    <tr>\n",
              "      <th>3</th>\n",
              "      <td>السفير الكويتي يستقبل مسؤولي جمعية إطعام الريا...</td>\n",
              "    </tr>\n",
              "    <tr>\n",
              "      <th>4</th>\n",
              "      <td>حث أحمد مرتضى منصور، عضو مجلس الزمالك، والمشرف...</td>\n",
              "    </tr>\n",
              "    <tr>\n",
              "      <th>...</th>\n",
              "      <td>...</td>\n",
              "    </tr>\n",
              "    <tr>\n",
              "      <th>9995</th>\n",
              "      <td>ترامب يرحب بقرار إف بى آى بالتحقيق فى رسائل إل...</td>\n",
              "    </tr>\n",
              "    <tr>\n",
              "      <th>9996</th>\n",
              "      <td>حجم الخط ع ع ع قال الدكتور خالد حنفي، وزير الت...</td>\n",
              "    </tr>\n",
              "    <tr>\n",
              "      <th>9997</th>\n",
              "      <td>وقع انفجار عنيف قرب مركز للشرطة حي يني بوسنة ب...</td>\n",
              "    </tr>\n",
              "    <tr>\n",
              "      <th>9998</th>\n",
              "      <td>0 57 تحتفظ اليابان بمواقف لمئات الدراجات تحت ا...</td>\n",
              "    </tr>\n",
              "    <tr>\n",
              "      <th>9999</th>\n",
              "      <td>د السالم يبحث تعزيز العلاقات الأمنية سفير كوري...</td>\n",
              "    </tr>\n",
              "  </tbody>\n",
              "</table>\n",
              "<p>10000 rows × 1 columns</p>\n",
              "</div>"
            ],
            "text/plain": [
              "                                                   text\n",
              "0     أعربت الأمم المتحدة «قلقها البالغ» جراء أمن يص...\n",
              "1     كتب رامى ناجى هنأ المهندس خالد عبد العزيز وزير...\n",
              "2     تعاني الكثيرات مشكلة تساقط الشعر وتقصفه، يكون ...\n",
              "3     السفير الكويتي يستقبل مسؤولي جمعية إطعام الريا...\n",
              "4     حث أحمد مرتضى منصور، عضو مجلس الزمالك، والمشرف...\n",
              "...                                                 ...\n",
              "9995  ترامب يرحب بقرار إف بى آى بالتحقيق فى رسائل إل...\n",
              "9996  حجم الخط ع ع ع قال الدكتور خالد حنفي، وزير الت...\n",
              "9997  وقع انفجار عنيف قرب مركز للشرطة حي يني بوسنة ب...\n",
              "9998  0 57 تحتفظ اليابان بمواقف لمئات الدراجات تحت ا...\n",
              "9999  د السالم يبحث تعزيز العلاقات الأمنية سفير كوري...\n",
              "\n",
              "[10000 rows x 1 columns]"
            ]
          },
          "metadata": {
            "tags": []
          },
          "execution_count": 14
        }
      ]
    },
    {
      "cell_type": "code",
      "metadata": {
        "id": "RHgMOTlfDSsr",
        "colab_type": "code",
        "colab": {
          "base_uri": "https://localhost:8080/",
          "height": 34
        },
        "outputId": "271f4a3d-0876-436f-c24e-48e3b51ff787"
      },
      "source": [
        "sum(df2['text'].str.find('بيتكوين'))"
      ],
      "execution_count": 15,
      "outputs": [
        {
          "output_type": "execute_result",
          "data": {
            "text/plain": [
              "-9959"
            ]
          },
          "metadata": {
            "tags": []
          },
          "execution_count": 15
        }
      ]
    },
    {
      "cell_type": "code",
      "metadata": {
        "id": "yFdU0IN3DeHt",
        "colab_type": "code",
        "colab": {}
      },
      "source": [
        "# TODO - Remove the articles containing word 'bitcoin' (optional)\n"
      ],
      "execution_count": 0,
      "outputs": []
    },
    {
      "cell_type": "code",
      "metadata": {
        "id": "byuQADklI5dx",
        "colab_type": "code",
        "colab": {}
      },
      "source": [
        ""
      ],
      "execution_count": 0,
      "outputs": []
    },
    {
      "cell_type": "code",
      "metadata": {
        "id": "LrjDHohlZxdE",
        "colab_type": "code",
        "colab": {
          "base_uri": "https://localhost:8080/",
          "height": 153
        },
        "outputId": "f6707c5c-0edb-4fe5-a57b-5a06c3a6c863"
      },
      "source": [
        "pre_df = cudf.read_csv(\"cc.ar.300.vec\",\n",
        "                       header=None,\n",
        "                       delim_whitespace=True,\n",
        "                       quoting=3,\n",
        "                       skiprows=1)  #ignore quoting\n",
        "print(pre_df.head())"
      ],
      "execution_count": 16,
      "outputs": [
        {
          "output_type": "stream",
          "text": [
            "   0       1       2       3       4  ...     296     297     298     299     300\n",
            "0  -  0.0345  0.0229  0.0243 -0.2402  ... -0.0063  0.2203 -0.0396  0.0080  0.0263\n",
            "1  |  0.1051  0.0187  0.1182 -0.9800  ... -0.0666  0.2379  0.0040  0.0112 -0.0510\n",
            "2  . -0.1151  0.0741  0.0628 -0.0505  ...  0.0303  0.0113  0.0752 -0.0260  0.0481\n",
            "3  : -0.1079  0.0184  0.0691 -0.0130  ...  0.0270  0.1038 -0.0907 -0.0440  0.0687\n",
            "4  ، -0.0181 -0.0114 -0.0830  0.0327  ... -0.0078 -0.0752  0.0450  0.0654 -0.0287\n",
            "\n",
            "[5 rows x 301 columns]\n"
          ],
          "name": "stdout"
        }
      ]
    },
    {
      "cell_type": "code",
      "metadata": {
        "id": "bRoYzXaB521k",
        "colab_type": "code",
        "colab": {
          "base_uri": "https://localhost:8080/",
          "height": 514
        },
        "outputId": "1eaacb35-7e2a-429e-d762-bc201bc09569"
      },
      "source": [
        "# Read the file with cudf\n",
        "names = ['query', 'title', 'text', 'link', 'desc','other']\n",
        "# Note 'int' for 3rd column- text will be hashed\n",
        "dtypes = ['str', 'str', 'str', 'str', 'str', 'str']\n",
        "df_pos = cudf.read_csv('arabic-true-pr.csv', delimiter=',',\n",
        "                   names=names, dtype=dtypes,\n",
        "                   skiprows=1)\n",
        "df_pos.head(15).to_pandas()"
      ],
      "execution_count": 18,
      "outputs": [
        {
          "output_type": "execute_result",
          "data": {
            "text/html": [
              "<div>\n",
              "<style scoped>\n",
              "    .dataframe tbody tr th:only-of-type {\n",
              "        vertical-align: middle;\n",
              "    }\n",
              "\n",
              "    .dataframe tbody tr th {\n",
              "        vertical-align: top;\n",
              "    }\n",
              "\n",
              "    .dataframe thead th {\n",
              "        text-align: right;\n",
              "    }\n",
              "</style>\n",
              "<table border=\"1\" class=\"dataframe\">\n",
              "  <thead>\n",
              "    <tr style=\"text-align: right;\">\n",
              "      <th></th>\n",
              "      <th>query</th>\n",
              "      <th>title</th>\n",
              "      <th>text</th>\n",
              "      <th>link</th>\n",
              "      <th>desc</th>\n",
              "      <th>other</th>\n",
              "    </tr>\n",
              "  </thead>\n",
              "  <tbody>\n",
              "    <tr>\n",
              "      <th>0</th>\n",
              "      <td>None</td>\n",
              "      <td>ارتفاع سعر البيتكوين يدفع سوق العملات الرقمية ...</td>\n",
              "      <td>\\nارتفع سعر البيتكوين من 8900 دولار إلى 11000 ...</td>\n",
              "      <td>https://arabfolio.com/2019/06/23/ارتفاع-سعر-ال...</td>\n",
              "      <td>None</td>\n",
              "      <td></td>\n",
              "    </tr>\n",
              "    <tr>\n",
              "      <th>1</th>\n",
              "      <td>البيتكوين ينمو</td>\n",
              "      <td>356 ألف دولار ، هذا هو سعر البيتكوين عام 2022</td>\n",
              "      <td>لا يزال سعر عملة البيتكوين على المسار الصحيح ل...</td>\n",
              "      <td>https://arabfolio.com/2019/07/27/356-ألف-دولار...</td>\n",
              "      <td>Title</td>\n",
              "      <td></td>\n",
              "    </tr>\n",
              "    <tr>\n",
              "      <th>2</th>\n",
              "      <td>ar.coinnewstelegraph.com</td>\n",
              "      <td>توقف عملات Bitcoin مؤقتًا ولكن ليس من المرجح أ...</td>\n",
              "      <td>ارتفع سعر البيتكوين مؤخرًا فوق 7,300 دولار قبل...</td>\n",
              "      <td>https://ar.coinnewstelegraph.com/bitcoin-rally...</td>\n",
              "      <td>There is a major bullish trend line forming wi...</td>\n",
              "      <td></td>\n",
              "    </tr>\n",
              "    <tr>\n",
              "      <th>3</th>\n",
              "      <td>ar.coinnewstelegraph.com</td>\n",
              "      <td>قد يرتفع سعر البيتكوين إلى 9 آلاف دولار قبل ال...</td>\n",
              "      <td>مع توجه Bitcoin حاليًا إلى نطاق يتراوح بين 7,0...</td>\n",
              "      <td>https://ar.coinnewstelegraph.com/bitcoin-price...</td>\n",
              "      <td>Title</td>\n",
              "      <td></td>\n",
              "    </tr>\n",
              "    <tr>\n",
              "      <th>4</th>\n",
              "      <td>البيتكوين ينمو</td>\n",
              "      <td>أذكى الأصول لدخول السوق: سوف تنمو Bitcoin ببطء...</td>\n",
              "      <td>ظل مالكو عملة البيتكوين والعملات المشفرة ينتظر...</td>\n",
              "      <td>https://ar.0xzx.com/2019070715832.html</td>\n",
              "      <td>Title</td>\n",
              "      <td></td>\n",
              "    </tr>\n",
              "    <tr>\n",
              "      <th>5</th>\n",
              "      <td>البيتكوين ينمو</td>\n",
              "      <td>تعلم كيف يجب أن تنمو Bitcoin حتى يفوز McAfee ب...</td>\n",
              "      <td>في عام 2017 ، راهن جون مكافي على قمم بيتكوين [...</td>\n",
              "      <td>https://ar.0xzx.com/2019122355788.html</td>\n",
              "      <td>Tekst</td>\n",
              "      <td></td>\n",
              "    </tr>\n",
              "    <tr>\n",
              "      <th>6</th>\n",
              "      <td>البيتكوين ينمو</td>\n",
              "      <td>توقعات بيتكوين 2019 | 2020 | 2025 | 2030: توقع...</td>\n",
              "      <td>2018 هو عام مجنون بالنسبة لأسعار العملة المشفر...</td>\n",
              "      <td>https://ar.0xzx.com/2019111846070.html</td>\n",
              "      <td>Tekst</td>\n",
              "      <td></td>\n",
              "    </tr>\n",
              "    <tr>\n",
              "      <th>7</th>\n",
              "      <td>البيتكوين ينمو</td>\n",
              "      <td>مستخدمو بيتكوين يكدسون مقتنياتهم بينما تُظهر ا...</td>\n",
              "      <td>تام شمس - الاثنين 30 ديسمبر 2019 12:54 صباحاً ...</td>\n",
              "      <td>https://gulf365.co/cryptocurrency-news/6481754...</td>\n",
              "      <td>Tekst</td>\n",
              "      <td></td>\n",
              "    </tr>\n",
              "    <tr>\n",
              "      <th>8</th>\n",
              "      <td>البيتكوين ينمو</td>\n",
              "      <td>توقعات البيتكوين 2020</td>\n",
              "      <td>بقلم: مايكل كوشار\\r\\n\\r\\nتقترب البتكوين من نها...</td>\n",
              "      <td>https://arab.dailyforex.com/forex-articles/201...</td>\n",
              "      <td>None</td>\n",
              "      <td></td>\n",
              "    </tr>\n",
              "    <tr>\n",
              "      <th>9</th>\n",
              "      <td>البيتكوين ينمو</td>\n",
              "      <td>BTC محلل الخطوط العريضة للكسور الصاعد التنبؤ ا...</td>\n",
              "      <td>تحتوي حركة أسعار BTC الحالية على عدد من أوجه ا...</td>\n",
              "      <td>https://coinrevolution.com/ar/btc-%D9%85%D8%AD...</td>\n",
              "      <td>None</td>\n",
              "      <td></td>\n",
              "    </tr>\n",
              "    <tr>\n",
              "      <th>10</th>\n",
              "      <td>البيتكوين ينمو</td>\n",
              "      <td>توقعات بيتكوين لعام 2020\\r</td>\n",
              "      <td>يدرس ملايين المستثمرين حول العالم الاستثمار في...</td>\n",
              "      <td>https://tn.ihappynewyearwishes.com/1670-bitcoi...</td>\n",
              "      <td>None</td>\n",
              "      <td></td>\n",
              "    </tr>\n",
              "    <tr>\n",
              "      <th>11</th>\n",
              "      <td>البيتكوين ينمو</td>\n",
              "      <td>إن التنبؤ بأسعار 2020 في بيتكوين المثير للجدل ...</td>\n",
              "      <td>قام John McAfee ، وهو من عشاق العملة المشفرة ،...</td>\n",
              "      <td>https://ar.0xzx.com/2019122155229.html</td>\n",
              "      <td>None</td>\n",
              "      <td></td>\n",
              "    </tr>\n",
              "    <tr>\n",
              "      <th>12</th>\n",
              "      <td>البيتكوين ينمو</td>\n",
              "      <td>يستمر معدل عملة التشفير الأكثر شعبية في العالم...</td>\n",
              "      <td>ووفقا لمحلل تقني من \"بريف نيوكوين\"، جوش أولشيف...</td>\n",
              "      <td>https://arabic.sputniknews.com/business/201712...</td>\n",
              "      <td>None</td>\n",
              "      <td></td>\n",
              "    </tr>\n",
              "    <tr>\n",
              "      <th>13</th>\n",
              "      <td>انخفاض سعر البيتكوين</td>\n",
              "      <td>None</td>\n",
              "      <td>None</td>\n",
              "      <td>https://www.easytradeweb.com/توقعات-سعر-البيتك...</td>\n",
              "      <td>None</td>\n",
              "      <td></td>\n",
              "    </tr>\n",
              "    <tr>\n",
              "      <th>14</th>\n",
              "      <td>انخفاض سعر البيتكوين</td>\n",
              "      <td>يصل سعر البيتكوين إلى أدنى نقطة في 2019</td>\n",
              "      <td>قد يؤدي انهيار سوق البيتكوين إلى مشاكل خطيرة ل...</td>\n",
              "      <td>https://coinrevolution.com/ar/يصل-سعر-البيتكوي...</td>\n",
              "      <td>According to most Bitcoin investors, today is ...</td>\n",
              "      <td></td>\n",
              "    </tr>\n",
              "  </tbody>\n",
              "</table>\n",
              "</div>"
            ],
            "text/plain": [
              "                       query  ... other\n",
              "0                       None  ...      \n",
              "1             البيتكوين ينمو  ...      \n",
              "2   ar.coinnewstelegraph.com  ...      \n",
              "3   ar.coinnewstelegraph.com  ...      \n",
              "4             البيتكوين ينمو  ...      \n",
              "5             البيتكوين ينمو  ...      \n",
              "6             البيتكوين ينمو  ...      \n",
              "7             البيتكوين ينمو  ...      \n",
              "8             البيتكوين ينمو  ...      \n",
              "9             البيتكوين ينمو  ...      \n",
              "10            البيتكوين ينمو  ...      \n",
              "11            البيتكوين ينمو  ...      \n",
              "12            البيتكوين ينمو  ...      \n",
              "13      انخفاض سعر البيتكوين  ...      \n",
              "14      انخفاض سعر البيتكوين  ...      \n",
              "\n",
              "[15 rows x 6 columns]"
            ]
          },
          "metadata": {
            "tags": []
          },
          "execution_count": 18
        }
      ]
    },
    {
      "cell_type": "code",
      "metadata": {
        "id": "5o-PIM-H6bNA",
        "colab_type": "code",
        "colab": {}
      },
      "source": [
        "df_pos = df_pos.drop(['query', 'title', 'link', 'desc', 'other'])"
      ],
      "execution_count": 0,
      "outputs": []
    },
    {
      "cell_type": "code",
      "metadata": {
        "id": "4r04jGBfK9G_",
        "colab_type": "code",
        "colab": {}
      },
      "source": [
        "df_pos.add_column('target', 1)"
      ],
      "execution_count": 0,
      "outputs": []
    },
    {
      "cell_type": "code",
      "metadata": {
        "id": "rELRBKQBLBON",
        "colab_type": "code",
        "colab": {}
      },
      "source": [
        "df_pos = df_pos.dropna()"
      ],
      "execution_count": 0,
      "outputs": []
    },
    {
      "cell_type": "code",
      "metadata": {
        "id": "vXFJy128R4rN",
        "colab_type": "code",
        "colab": {
          "base_uri": "https://localhost:8080/",
          "height": 419
        },
        "outputId": "2cee3718-d59f-4241-b41d-a871de2ecfc5"
      },
      "source": [
        "df2.add_column('target', 0)\n",
        "df2"
      ],
      "execution_count": 24,
      "outputs": [
        {
          "output_type": "execute_result",
          "data": {
            "text/html": [
              "<div>\n",
              "<style scoped>\n",
              "    .dataframe tbody tr th:only-of-type {\n",
              "        vertical-align: middle;\n",
              "    }\n",
              "\n",
              "    .dataframe tbody tr th {\n",
              "        vertical-align: top;\n",
              "    }\n",
              "\n",
              "    .dataframe thead th {\n",
              "        text-align: right;\n",
              "    }\n",
              "</style>\n",
              "<table border=\"1\" class=\"dataframe\">\n",
              "  <thead>\n",
              "    <tr style=\"text-align: right;\">\n",
              "      <th></th>\n",
              "      <th>text</th>\n",
              "      <th>target</th>\n",
              "    </tr>\n",
              "  </thead>\n",
              "  <tbody>\n",
              "    <tr>\n",
              "      <th>0</th>\n",
              "      <td>أعربت الأمم المتحدة «قلقها البالغ» جراء أمن يص...</td>\n",
              "      <td>0</td>\n",
              "    </tr>\n",
              "    <tr>\n",
              "      <th>1</th>\n",
              "      <td>كتب رامى ناجى هنأ المهندس خالد عبد العزيز وزير...</td>\n",
              "      <td>0</td>\n",
              "    </tr>\n",
              "    <tr>\n",
              "      <th>2</th>\n",
              "      <td>تعاني الكثيرات مشكلة تساقط الشعر وتقصفه، يكون ...</td>\n",
              "      <td>0</td>\n",
              "    </tr>\n",
              "    <tr>\n",
              "      <th>3</th>\n",
              "      <td>السفير الكويتي يستقبل مسؤولي جمعية إطعام الريا...</td>\n",
              "      <td>0</td>\n",
              "    </tr>\n",
              "    <tr>\n",
              "      <th>4</th>\n",
              "      <td>حث أحمد مرتضى منصور، عضو مجلس الزمالك، والمشرف...</td>\n",
              "      <td>0</td>\n",
              "    </tr>\n",
              "    <tr>\n",
              "      <th>...</th>\n",
              "      <td>...</td>\n",
              "      <td>...</td>\n",
              "    </tr>\n",
              "    <tr>\n",
              "      <th>9995</th>\n",
              "      <td>ترامب يرحب بقرار إف بى آى بالتحقيق فى رسائل إل...</td>\n",
              "      <td>0</td>\n",
              "    </tr>\n",
              "    <tr>\n",
              "      <th>9996</th>\n",
              "      <td>حجم الخط ع ع ع قال الدكتور خالد حنفي، وزير الت...</td>\n",
              "      <td>0</td>\n",
              "    </tr>\n",
              "    <tr>\n",
              "      <th>9997</th>\n",
              "      <td>وقع انفجار عنيف قرب مركز للشرطة حي يني بوسنة ب...</td>\n",
              "      <td>0</td>\n",
              "    </tr>\n",
              "    <tr>\n",
              "      <th>9998</th>\n",
              "      <td>0 57 تحتفظ اليابان بمواقف لمئات الدراجات تحت ا...</td>\n",
              "      <td>0</td>\n",
              "    </tr>\n",
              "    <tr>\n",
              "      <th>9999</th>\n",
              "      <td>د السالم يبحث تعزيز العلاقات الأمنية سفير كوري...</td>\n",
              "      <td>0</td>\n",
              "    </tr>\n",
              "  </tbody>\n",
              "</table>\n",
              "<p>10000 rows × 2 columns</p>\n",
              "</div>"
            ],
            "text/plain": [
              "                                                   text  target\n",
              "0     أعربت الأمم المتحدة «قلقها البالغ» جراء أمن يص...       0\n",
              "1     كتب رامى ناجى هنأ المهندس خالد عبد العزيز وزير...       0\n",
              "2     تعاني الكثيرات مشكلة تساقط الشعر وتقصفه، يكون ...       0\n",
              "3     السفير الكويتي يستقبل مسؤولي جمعية إطعام الريا...       0\n",
              "4     حث أحمد مرتضى منصور، عضو مجلس الزمالك، والمشرف...       0\n",
              "...                                                 ...     ...\n",
              "9995  ترامب يرحب بقرار إف بى آى بالتحقيق فى رسائل إل...       0\n",
              "9996  حجم الخط ع ع ع قال الدكتور خالد حنفي، وزير الت...       0\n",
              "9997  وقع انفجار عنيف قرب مركز للشرطة حي يني بوسنة ب...       0\n",
              "9998  0 57 تحتفظ اليابان بمواقف لمئات الدراجات تحت ا...       0\n",
              "9999  د السالم يبحث تعزيز العلاقات الأمنية سفير كوري...       0\n",
              "\n",
              "[10000 rows x 2 columns]"
            ]
          },
          "metadata": {
            "tags": []
          },
          "execution_count": 24
        }
      ]
    },
    {
      "cell_type": "code",
      "metadata": {
        "id": "gR3k9RycLdl0",
        "colab_type": "code",
        "colab": {}
      },
      "source": [
        "df = cudf.core.reshape.concat([df_pos, df2], 0)"
      ],
      "execution_count": 0,
      "outputs": []
    },
    {
      "cell_type": "code",
      "metadata": {
        "id": "o8YAeHzg701a",
        "colab_type": "code",
        "colab": {}
      },
      "source": [
        "# Thanks Ayush Kumar\n",
        "# setting the max length of each article to 200\n",
        "MAX_LEN = 200\n",
        "num_sents = df['text'].data.size()\n",
        "\n",
        "# generate the tokens\n",
        "seq = df['text'].data.split_record(' ')\n",
        "# padding each strings if smaller or trim down if larger\n",
        "for i in range(len(seq)):\n",
        "  l = seq[i].size()\n",
        "  if l<= MAX_LEN:\n",
        "    seq[i] = seq[i].add_strings(nvstrings.to_device((MAX_LEN-l)*['PAD']))\n",
        "  else:\n",
        "    seq[i] = seq[i].remove_strings(list(range(MAX_LEN,l)))"
      ],
      "execution_count": 0,
      "outputs": []
    },
    {
      "cell_type": "code",
      "metadata": {
        "id": "tR4_RAaLN1uI",
        "colab_type": "code",
        "colab": {
          "base_uri": "https://localhost:8080/",
          "height": 88
        },
        "outputId": "4eadfbd0-16ec-4df1-aa13-3c08d9e713a4"
      },
      "source": [
        "print(seq[40])\n",
        "print(seq[4])\n",
        "print((len(seq)))"
      ],
      "execution_count": 98,
      "outputs": [
        {
          "output_type": "stream",
          "text": [
            "['تعاني', 'الكثيرات', 'مشكلة', 'تساقط', 'الشعر', 'وتقصفه،', 'يكون', 'نتيجة', 'لعوامل', 'عديدة،', 'وخاصة', 'التعرض', 'لأشعة', 'الشمس', 'خلال', 'فصل', 'الصيف', 'لذا', 'يعد', 'الشتاء', 'الفصول', 'المناسبة', 'للعناية', 'والاهتمام', 'بشعرك', 'تقدم', 'فاطمة', 'المرشدي،', 'خبيرة', 'التجميل', 'وصفة', 'طبيعية', 'لتقوية', 'وتنعيم', 'الشعر', 'خلال', '10', 'دقائق', 'فقط', 'الوصفة', 'وتقول', 'فاطمة،', 'قومي', 'بخلط', 'ملعقة', 'كبيرة', 'ماء', 'الورد', 'المركز', 'قطرتين', 'زيت', 'الجاجوبا،', 'وكبسولة', 'فيتامين', 'e', '،', 'ويتم', 'دهن', 'فروة', 'الرأس', 'بالخليط', 'لمدة', 'دقيقة،', 'تركه', 'الشعر', 'لمدة', '10', 'دقائق', 'فقط،', 'ويتم', 'غسل', 'الشعر', 'بالطريقة', 'التقليدية', 'كرري', 'الطريقة', 'مرتين', 'الأسبوع', 'للحصول', 'أفضل', 'النتائج', 'الحفاظ', 'نظام', 'غذائي', 'صحي،', 'وعدم', 'استخدام', 'أدوات', 'الفرد', 'نهائيًا', 'يتعالج', 'الشعر', 'PAD', 'PAD', 'PAD', 'PAD', 'PAD', 'PAD', 'PAD', 'PAD', 'PAD', 'PAD', 'PAD', 'PAD', 'PAD', 'PAD', 'PAD', 'PAD', 'PAD', 'PAD', 'PAD', 'PAD', 'PAD', 'PAD', 'PAD', 'PAD', 'PAD', 'PAD', 'PAD', 'PAD', 'PAD', 'PAD', 'PAD', 'PAD', 'PAD', 'PAD', 'PAD', 'PAD', 'PAD', 'PAD', 'PAD', 'PAD', 'PAD', 'PAD', 'PAD', 'PAD', 'PAD', 'PAD', 'PAD', 'PAD', 'PAD', 'PAD', 'PAD', 'PAD', 'PAD', 'PAD', 'PAD', 'PAD', 'PAD', 'PAD', 'PAD', 'PAD', 'PAD', 'PAD', 'PAD', 'PAD', 'PAD', 'PAD', 'PAD', 'PAD', 'PAD', 'PAD', 'PAD', 'PAD', 'PAD', 'PAD', 'PAD', 'PAD', 'PAD', 'PAD', 'PAD', 'PAD', 'PAD', 'PAD', 'PAD', 'PAD', 'PAD', 'PAD', 'PAD', 'PAD', 'PAD', 'PAD', 'PAD', 'PAD', 'PAD', 'PAD', 'PAD', 'PAD', 'PAD', 'PAD', 'PAD', 'PAD', 'PAD', 'PAD', 'PAD', 'PAD', 'PAD', 'PAD', 'PAD', 'PAD']\n",
            "['ظل', 'مالكو', 'عملة', 'البيتكوين', 'والعملات', 'المشفرة', 'ينتظرون', 'منذ', 'فترة', 'طويلة', 'وصول', 'المستثمرين', 'من', 'الشركات', 'الكبيرة.', 'انتهت', 'المنافسة', 'في', 'السوق', 'الصعودية', 'في', 'عام', '2017', 'بـ', '20.000', 'دولار.', 'لكن', 'مع', 'نمو', 'السوق', 'مرة', 'أخرى', '،', 'يقول', 'الخبراء', 'إن', 'المؤسسات', 'المالية', 'العالمية', 'ستكون', 'في', 'موقع', 'الريادة.', 'قال', 'العديد', 'من', 'خبراء', 'الصناعة', 'لـ', 'Coindesk', 'إن', 'المستثمرين', 'المؤسساتيين', 'سيدعمون', 'بلا', 'شك', 'المزيد', 'من', 'النمو.\\r\\n\\r\\nويعزى', 'أحدث', 'نمو', 'بيتكوين', 'للمستثمرين', 'من', 'المؤسسات\\r\\nأوليفر', 'فون', 'لاندسبيرج-سادي', 'هو', 'الرئيس', 'التنفيذي', 'لشركة', 'BCB', '،', 'وهي', 'شركة', 'متخصصة', 'في', 'الخدمات', 'المالية', 'للأصول', 'الرقمية.', 'وهو', 'يعتقد', 'أن', 'النمو', 'الذي', 'نراه', 'يدعمه', 'عدد', 'كبير', 'من', 'المؤسسات', 'التي', 'تستثمر', 'أموالًا', 'جديدة', 'في', 'مجال', 'العملة', 'المشفرة.', 'أوضح', 'الرئيس', 'التنفيذي:\\r\\n\\r\\nتم', 'إنشاء', 'بالون', '2013', 'من', 'قِبل', 'تقنيين', 'ومتصيدون', 'على', 'شبكة', 'الإنترنت', 'الداكنة', '،', 'وكان', 'ارتفاع', 'عام', '2017', 'مدفوعًا', 'بمشهد', 'تجار', 'التجزئة', 'المضاربين.', 'النمو', 'في', 'عام', '2019', 'هو', 'مؤسسة', 'مالية', 'تقوم', 'بتنويع', 'المحفظة', 'القديمة', 'ولديها', 'في', 'النهاية', 'آلية', 'مهنية.\\r\\n\\r\\nيعرف', 'أوليفر', 'فون', 'لاندسبيرج-سادي', 'جيدًا', 'أن', 'هذا', 'العمل', 'في', 'السوق', 'الصاعدة', 'سيكون', 'مختلفًا', 'لأن', 'BCB', 'يجذب', 'العملاء:\\r\\n\\r\\nكان', 'هذا', 'تغييراً', 'جوهرياً', 'مقارنة', 'بالعام', 'الماضي', '،', 'عندما', 'سيطرت', 'مشاريع', 'العملة', 'المشفرة', 'على', 'ملفات', 'تعريف', 'العملاء', 'التي', 'تسعى', 'للسيولة.\\r\\n\\r\\nالبورصة', 'تستعد', 'للمستثمرين', 'من', 'المؤسسات\\r\\nعلامة', 'مقنعة', 'لتدفق', 'المستثمرين', 'من', 'الشركات', 'هو', 'سلوك', 'البورصات', 'الرائدة.', 'كاري', 'إس', 'لارسن', 'خبير', 'قانوني', 'وشريك', 'في', 'العملة', 'الرقمية', 'لمجموعة', 'Blockchain-Technology', 'و']\n",
            "10038\n"
          ],
          "name": "stdout"
        }
      ]
    },
    {
      "cell_type": "code",
      "metadata": {
        "id": "7T54I5yyN_kD",
        "colab_type": "code",
        "colab": {
          "base_uri": "https://localhost:8080/",
          "height": 51
        },
        "outputId": "d8866fbc-624b-4ec1-de6c-f6bbe7f254a2"
      },
      "source": [
        "# generating the indices corresponding each token \n",
        "c = nvcategory.from_strings_list(seq)\n",
        "print(c.keys_size())   # total number of unique tokens\n",
        "print(c.size())       # total number of tokens or vocabulary"
      ],
      "execution_count": 99,
      "outputs": [
        {
          "output_type": "stream",
          "text": [
            "153917\n",
            "2007600\n"
          ],
          "name": "stdout"
        }
      ]
    },
    {
      "cell_type": "code",
      "metadata": {
        "id": "wi4M5jLJPHPf",
        "colab_type": "code",
        "colab": {
          "base_uri": "https://localhost:8080/",
          "height": 359
        },
        "outputId": "aa271aae-ff68-4daa-c5af-314f5f0a4c42"
      },
      "source": [
        "# creating gdf using unique tokens\n",
        "# TODO more preprocessing, remove \\n\\n etc...\n",
        "sent_df = cudf.DataFrame({'tokens':c.keys()})\n",
        "sent_df.head(10)"
      ],
      "execution_count": 100,
      "outputs": [
        {
          "output_type": "execute_result",
          "data": {
            "text/html": [
              "<div>\n",
              "<style scoped>\n",
              "    .dataframe tbody tr th:only-of-type {\n",
              "        vertical-align: middle;\n",
              "    }\n",
              "\n",
              "    .dataframe tbody tr th {\n",
              "        vertical-align: top;\n",
              "    }\n",
              "\n",
              "    .dataframe thead th {\n",
              "        text-align: right;\n",
              "    }\n",
              "</style>\n",
              "<table border=\"1\" class=\"dataframe\">\n",
              "  <thead>\n",
              "    <tr style=\"text-align: right;\">\n",
              "      <th></th>\n",
              "      <th>tokens</th>\n",
              "    </tr>\n",
              "  </thead>\n",
              "  <tbody>\n",
              "    <tr>\n",
              "      <th>0</th>\n",
              "      <td></td>\n",
              "    </tr>\n",
              "    <tr>\n",
              "      <th>1</th>\n",
              "      <td>\\n\\nتعرضت</td>\n",
              "    </tr>\n",
              "    <tr>\n",
              "      <th>2</th>\n",
              "      <td>\\n\\nما</td>\n",
              "    </tr>\n",
              "    <tr>\n",
              "      <th>3</th>\n",
              "      <td>\\n\\nنقد</td>\n",
              "    </tr>\n",
              "    <tr>\n",
              "      <th>4</th>\n",
              "      <td>\\nارتفع</td>\n",
              "    </tr>\n",
              "    <tr>\n",
              "      <th>5</th>\n",
              "      <td>\\nتتسم</td>\n",
              "    </tr>\n",
              "    <tr>\n",
              "      <th>6</th>\n",
              "      <td>\\nيختلف</td>\n",
              "    </tr>\n",
              "    <tr>\n",
              "      <th>7</th>\n",
              "      <td>\"المحتفظون</td>\n",
              "    </tr>\n",
              "    <tr>\n",
              "      <th>8</th>\n",
              "      <td>\"بريف</td>\n",
              "    </tr>\n",
              "    <tr>\n",
              "      <th>9</th>\n",
              "      <td>\"بيتكوين\"</td>\n",
              "    </tr>\n",
              "  </tbody>\n",
              "</table>\n",
              "</div>"
            ],
            "text/plain": [
              "       tokens\n",
              "0            \n",
              "1   \\n\\nتعرضت\n",
              "2      \\n\\nما\n",
              "3     \\n\\nنقد\n",
              "4     \\nارتفع\n",
              "5      \\nتتسم\n",
              "6     \\nيختلف\n",
              "7  \"المحتفظون\n",
              "8       \"بريف\n",
              "9   \"بيتكوين\""
            ]
          },
          "metadata": {
            "tags": []
          },
          "execution_count": 100
        }
      ]
    },
    {
      "cell_type": "code",
      "metadata": {
        "id": "V5vOj868PNk6",
        "colab_type": "code",
        "colab": {
          "base_uri": "https://localhost:8080/",
          "height": 34
        },
        "outputId": "cd665ebc-9d1b-491c-d8c7-f1172a848fa2"
      },
      "source": [
        "# preparing the X_train \n",
        "X_train = cuda.device_array((num_sents, MAX_LEN), dtype=np.int32)\n",
        "c.values(X_train.device_ctypes_pointer.value)\n",
        "print(X_train.shape)"
      ],
      "execution_count": 101,
      "outputs": [
        {
          "output_type": "stream",
          "text": [
            "(10038, 200)\n"
          ],
          "name": "stdout"
        }
      ]
    },
    {
      "cell_type": "code",
      "metadata": {
        "id": "TU1jkxGZYubM",
        "colab_type": "code",
        "colab": {
          "base_uri": "https://localhost:8080/",
          "height": 34
        },
        "outputId": "7de62d47-8dfb-417d-ad69-1602f1e4c548"
      },
      "source": [
        "# preparing the y_train\n",
        "y_train = df['target'].astype('float32').to_gpu_array()\n",
        "print(y_train.shape)"
      ],
      "execution_count": 102,
      "outputs": [
        {
          "output_type": "stream",
          "text": [
            "(10038,)\n"
          ],
          "name": "stdout"
        }
      ]
    },
    {
      "cell_type": "code",
      "metadata": {
        "id": "LxYdgJU1Qj7A",
        "colab_type": "code",
        "colab": {}
      },
      "source": [
        "# creating embedding matrix \n",
        "vocab_df = sent_df.merge(pre_df,\n",
        "                         left_on='tokens',\n",
        "                         right_on='0',\n",
        "                         how='left')"
      ],
      "execution_count": 0,
      "outputs": []
    },
    {
      "cell_type": "code",
      "metadata": {
        "id": "JlerzfKbQ1M_",
        "colab_type": "code",
        "colab": {
          "base_uri": "https://localhost:8080/",
          "height": 34
        },
        "outputId": "74b55c6e-d4c8-4042-88d2-6822d7f17aa5"
      },
      "source": [
        "#TODO TBFIX Fix multiple nulls\n",
        "vocab_df.head(60000)\n",
        "\n",
        "all_token = vocab_df.shape[0]\n",
        "print(all_token)"
      ],
      "execution_count": 104,
      "outputs": [
        {
          "output_type": "stream",
          "text": [
            "153917\n"
          ],
          "name": "stdout"
        }
      ]
    },
    {
      "cell_type": "code",
      "metadata": {
        "id": "L448hiT39uDA",
        "colab_type": "code",
        "colab": {}
      },
      "source": [
        "import cupy\n",
        "vocab_df.drop_column('0')\n",
        "vocab_df.drop_column('tokens')\n",
        "\n",
        "# filling the not found tokens with random vector\n",
        "for c in vocab_df.columns:\n",
        "  vocab_df[c] = vocab_df[c].fillna(cupy.random.normal(size=all_token)).astype(np.float32)\n",
        "\n",
        "# embedding matrix\n",
        "vocab = vocab_df.as_gpu_matrix(order='C')"
      ],
      "execution_count": 0,
      "outputs": []
    },
    {
      "cell_type": "code",
      "metadata": {
        "id": "lOQqgbLD-Fwp",
        "colab_type": "code",
        "colab": {}
      },
      "source": [
        "# open issue #23067\n",
        "\n",
        "def devndarray2tensor(dev_arr, dtyp='float32'):\n",
        "    dmap = {'float32':torch.float32, 'int32':torch.int32}\n",
        "    t = torch.empty(size=dev_arr.shape, dtype=dmap[dtyp]).cuda()\n",
        "    ctx = cuda.cudadrv.driver.driver.get_context()\n",
        "    \n",
        "    # constant value of #bytes in float32 = 4\n",
        "    mp = cuda.cudadrv.driver.MemoryPointer(ctx, ctypes.c_ulong(t.data_ptr()), t.numel()*4)\n",
        "    tmp_arr = cuda.cudadrv.devicearray.DeviceNDArray(t.size(), [i*4 for i in t.stride()], np.dtype(dtyp), \n",
        "                                            gpu_data=mp, stream=torch.cuda.current_stream().cuda_stream)\n",
        "    tmp_arr.copy_to_device(dev_arr)\n",
        "    return t"
      ],
      "execution_count": 0,
      "outputs": []
    },
    {
      "cell_type": "code",
      "metadata": {
        "id": "FAlml5jKXTXK",
        "colab_type": "code",
        "colab": {
          "base_uri": "https://localhost:8080/",
          "height": 34
        },
        "outputId": "fd26af7f-a7b0-4ff5-8edf-1b2ae08aeb5d"
      },
      "source": [
        ""
      ],
      "execution_count": 67,
      "outputs": [
        {
          "output_type": "execute_result",
          "data": {
            "text/plain": [
              "True"
            ]
          },
          "metadata": {
            "tags": []
          },
          "execution_count": 67
        }
      ]
    },
    {
      "cell_type": "code",
      "metadata": {
        "id": "vvwfi69L-Sdt",
        "colab_type": "code",
        "colab": {}
      },
      "source": [
        "def create_emb_layer(weights_matrix, non_trainable=False):\n",
        "  num_embeddings, embedding_dim = weights_matrix.shape\n",
        "  emb_layer = nn.Embedding(num_embeddings, embedding_dim)\n",
        "  emb_layer.weight = nn.Parameter(weights_matrix)\n",
        "  if non_trainable:\n",
        "    emb_layer.weight.requires_grad = False\n",
        "  return emb_layer, num_embeddings, embedding_dim\n",
        "class ToyLSTM(nn.Module):\n",
        "  def __init__(self, weights_matrix, hidden_size, output_size, num_layers):\n",
        "    super(ToyLSTM, self).__init__()\n",
        "    self.embedding, num_embeddings, embedding_dim = \\\n",
        "                    create_emb_layer(weights_matrix, True)\n",
        "    self.hidden_size = hidden_size\n",
        "    self.output_size = output_size\n",
        "    self.num_layers = num_layers\n",
        "    self.lstm = nn.LSTM(embedding_dim, hidden_size, num_layers,     batch_first=True)\n",
        "    self.linear = nn.Linear(hidden_size, hidden_size//2)\n",
        "    self.out = nn.Linear(hidden_size//2, output_size)\n",
        "    self.relu = nn.ReLU()\n",
        "  def forward(self, inp):\n",
        "    h_embedding = self.embedding(inp)\n",
        "    h_lstm, _ = self.lstm(h_embedding)\n",
        "    max_pool, _ = torch.max(h_lstm, 1)\n",
        "    linear = self.relu(self.linear(max_pool))\n",
        "    out = self.out(linear)\n",
        "    return out"
      ],
      "execution_count": 0,
      "outputs": []
    },
    {
      "cell_type": "code",
      "metadata": {
        "id": "zyyRw_5b-Thn",
        "colab_type": "code",
        "colab": {}
      },
      "source": [
        ""
      ],
      "execution_count": 0,
      "outputs": []
    },
    {
      "cell_type": "code",
      "metadata": {
        "id": "4UCME3_C-g-f",
        "colab_type": "code",
        "colab": {
          "base_uri": "https://localhost:8080/",
          "height": 136
        },
        "outputId": "d8cd254d-cab6-4b3a-a951-598177eb0240"
      },
      "source": [
        "# instantiate the toy_lstm model\n",
        "toy_lstm = ToyLSTM(weights_matrix=devndarray2tensor(vocab), hidden_size=50, output_size=1, num_layers=2).cuda()\n",
        "toy_lstm"
      ],
      "execution_count": 149,
      "outputs": [
        {
          "output_type": "execute_result",
          "data": {
            "text/plain": [
              "ToyLSTM(\n",
              "  (embedding): Embedding(153917, 300)\n",
              "  (lstm): LSTM(300, 50, num_layers=2, batch_first=True)\n",
              "  (linear): Linear(in_features=50, out_features=25, bias=True)\n",
              "  (out): Linear(in_features=25, out_features=1, bias=True)\n",
              "  (relu): ReLU()\n",
              ")"
            ]
          },
          "metadata": {
            "tags": []
          },
          "execution_count": 149
        }
      ]
    },
    {
      "cell_type": "code",
      "metadata": {
        "id": "gim7KPZPX02Z",
        "colab_type": "code",
        "colab": {
          "base_uri": "https://localhost:8080/",
          "height": 51
        },
        "outputId": "aa769e3a-ef74-4265-86a2-2f3c08132cb8"
      },
      "source": [
        "print(X_train.flags)\n",
        "print(y_train.flags)"
      ],
      "execution_count": 150,
      "outputs": [
        {
          "output_type": "stream",
          "text": [
            "{'F_CONTIGUOUS': False, 'C_CONTIGUOUS': True}\n",
            "{'F_CONTIGUOUS': True, 'C_CONTIGUOUS': True}\n"
          ],
          "name": "stdout"
        }
      ]
    },
    {
      "cell_type": "code",
      "metadata": {
        "id": "Hr3AS2rc-jaT",
        "colab_type": "code",
        "colab": {}
      },
      "source": [
        "split_size = int(0.8 * y_train.shape[0])\n",
        "train = TensorDataset(devndarray2tensor(X_train[:split_size], dtyp='int32').to(torch.int64), devndarray2tensor(y_train[:split_size]))\n",
        "trainloader = DataLoader(train, batch_size=256)\n",
        "\n",
        "valid = TensorDataset(devndarray2tensor(X_train[split_size:], dtyp='int32').to(torch.int64), devndarray2tensor(y_train[split_size:]))\n",
        "validloader = DataLoader(valid, batch_size=200)"
      ],
      "execution_count": 0,
      "outputs": []
    },
    {
      "cell_type": "code",
      "metadata": {
        "id": "uoNFTgl0eP7O",
        "colab_type": "code",
        "colab": {}
      },
      "source": [
        "optimizer = optim.Adam(toy_lstm.parameters())\n",
        "loss_function = nn.BCEWithLogitsLoss(reduction='mean')"
      ],
      "execution_count": 0,
      "outputs": []
    },
    {
      "cell_type": "code",
      "metadata": {
        "id": "BY50SUHX-lU_",
        "colab_type": "code",
        "colab": {
          "base_uri": "https://localhost:8080/",
          "height": 204
        },
        "outputId": "19b61aa9-fcbf-4a77-9f82-f5d7a4fe40b7"
      },
      "source": [
        "for epoch in range(1, 15):\n",
        "    train_loss, valid_loss = [], []\n",
        "\n",
        "    # training part\n",
        "    toy_lstm.train()\n",
        "    for data, target in trainloader:\n",
        "        optimizer.zero_grad()\n",
        "        output = toy_lstm(data)\n",
        "        loss = loss_function(output, target.view(-1,1))\n",
        "        loss.backward()\n",
        "        optimizer.step()\n",
        "        train_loss.append(loss.item())\n",
        "        limit = limit - 1\n",
        "    \n",
        "    ## evaluation part \n",
        "    toy_lstm.eval()\n",
        "    for data, target in validloader:\n",
        "        output = toy_lstm(data)\n",
        "        pred = torch.sum(torch.round(output))\n",
        "        #print(pred)\n",
        "        loss = loss_function(output, target.view(-1,1))\n",
        "        valid_loss.append(loss.item())\n",
        "valid_loss"
      ],
      "execution_count": 159,
      "outputs": [
        {
          "output_type": "execute_result",
          "data": {
            "text/plain": [
              "[0.003568394109606743,\n",
              " 0.003659329144284129,\n",
              " 0.003612331347540021,\n",
              " 0.0037297499366104603,\n",
              " 0.003807577071711421,\n",
              " 0.0038059817161411047,\n",
              " 0.0035855460446327925,\n",
              " 0.00360624841414392,\n",
              " 0.0037001967430114746,\n",
              " 0.0036332900635898113,\n",
              " 0.004110497422516346]"
            ]
          },
          "metadata": {
            "tags": []
          },
          "execution_count": 159
        }
      ]
    },
    {
      "cell_type": "code",
      "metadata": {
        "id": "FRKnruMydnjd",
        "colab_type": "code",
        "colab": {
          "base_uri": "https://localhost:8080/",
          "height": 561
        },
        "outputId": "e8155baf-2968-4d51-8aab-3f2bee70b8ef"
      },
      "source": [
        "train_loss"
      ],
      "execution_count": 156,
      "outputs": [
        {
          "output_type": "execute_result",
          "data": {
            "text/plain": [
              "[0.6500130891799927,\n",
              " 0.6303161382675171,\n",
              " 0.6303646564483643,\n",
              " 0.6302404403686523,\n",
              " 0.6305034160614014,\n",
              " 0.6304831504821777,\n",
              " 0.6305574178695679,\n",
              " 0.6305416822433472,\n",
              " 0.6301936507225037,\n",
              " 0.6301394104957581,\n",
              " 0.6304129362106323,\n",
              " 0.6303098201751709,\n",
              " 0.6305047273635864,\n",
              " 0.6302539110183716,\n",
              " 0.6306347846984863,\n",
              " 0.6301697492599487,\n",
              " 0.6303194761276245,\n",
              " 0.6302708983421326,\n",
              " 0.6302801966667175,\n",
              " 0.6305937767028809,\n",
              " 0.6301056742668152,\n",
              " 0.6302383542060852,\n",
              " 0.6304757595062256,\n",
              " 0.6306142807006836,\n",
              " 0.6302372217178345,\n",
              " 0.6303231120109558,\n",
              " 0.6304497718811035,\n",
              " 0.6305544972419739,\n",
              " 0.6305256485939026,\n",
              " 0.6302734613418579,\n",
              " 0.6304113864898682,\n",
              " 0.6306394934654236]"
            ]
          },
          "metadata": {
            "tags": []
          },
          "execution_count": 156
        }
      ]
    },
    {
      "cell_type": "code",
      "metadata": {
        "id": "IlrOC3IaexOR",
        "colab_type": "code",
        "colab": {
          "base_uri": "https://localhost:8080/",
          "height": 1000
        },
        "outputId": "ad3365f6-af27-4f4c-8035-711e8d72501d"
      },
      "source": [
        "from sklearn.metrics import f1_score\n",
        "\n",
        "dataiter = iter(validloader)\n",
        "data, labels = dataiter.next()\n",
        "print(data, labels)\n",
        "output = toy_lstm(data)\n",
        "print(\"out\", output, output.shape)"
      ],
      "execution_count": 165,
      "outputs": [
        {
          "output_type": "stream",
          "text": [
            "tensor([[ 83204,  81868,  88818,  ...,  97166,   9708,  20359],\n",
            "        [148241, 119137,  12494,  ...,  84419,  44639, 125203],\n",
            "        [ 82323,  84519,  83762,  ...,   3039,   3039,   3039],\n",
            "        ...,\n",
            "        [ 12298,  19814,  20910,  ...,  49879,  46761, 134078],\n",
            "        [ 77791, 110287,    481,  ...,   3039,   3039,   3039],\n",
            "        [ 94111, 110287,  34078,  ...,   3039,   3039,   3039]],\n",
            "       device='cuda:0') tensor([0., 0., 0., 0., 0., 0., 0., 0., 0., 0., 0., 0., 0., 0., 0., 0., 0., 0., 0., 0., 0., 0., 0., 0.,\n",
            "        0., 0., 0., 0., 0., 0., 0., 0., 0., 0., 0., 0., 0., 0., 0., 0., 0., 0., 0., 0., 0., 0., 0., 0.,\n",
            "        0., 0., 0., 0., 0., 0., 0., 0., 0., 0., 0., 0., 0., 0., 0., 0., 0., 0., 0., 0., 0., 0., 0., 0.,\n",
            "        0., 0., 0., 0., 0., 0., 0., 0., 0., 0., 0., 0., 0., 0., 0., 0., 0., 0., 0., 0., 0., 0., 0., 0.,\n",
            "        0., 0., 0., 0., 0., 0., 0., 0., 0., 0., 0., 0., 0., 0., 0., 0., 0., 0., 0., 0., 0., 0., 0., 0.,\n",
            "        0., 0., 0., 0., 0., 0., 0., 0., 0., 0., 0., 0., 0., 0., 0., 0., 0., 0., 0., 0., 0., 0., 0., 0.,\n",
            "        0., 0., 0., 0., 0., 0., 0., 0., 0., 0., 0., 0., 0., 0., 0., 0., 0., 0., 0., 0., 0., 0., 0., 0.,\n",
            "        0., 0., 0., 0., 0., 0., 0., 0., 0., 0., 0., 0., 0., 0., 0., 0., 0., 0., 0., 0., 0., 0., 0., 0.,\n",
            "        0., 0., 0., 0., 0., 0., 0., 0.], device='cuda:0')\n",
            "out tensor([[-4.9042],\n",
            "        [-4.9569],\n",
            "        [-5.7947],\n",
            "        [-4.9605],\n",
            "        [-5.7607],\n",
            "        [-5.7616],\n",
            "        [-5.8826],\n",
            "        [-5.4598],\n",
            "        [-5.7568],\n",
            "        [-5.0198],\n",
            "        [-6.0466],\n",
            "        [-5.7073],\n",
            "        [-5.4113],\n",
            "        [-5.7457],\n",
            "        [-5.7700],\n",
            "        [-5.4079],\n",
            "        [-5.7574],\n",
            "        [-5.8627],\n",
            "        [-4.6767],\n",
            "        [-6.5946],\n",
            "        [-5.7692],\n",
            "        [-5.7635],\n",
            "        [-5.7288],\n",
            "        [-5.1911],\n",
            "        [-5.7706],\n",
            "        [-5.7206],\n",
            "        [-5.7187],\n",
            "        [-5.7719],\n",
            "        [-5.4698],\n",
            "        [-6.5352],\n",
            "        [-5.7619],\n",
            "        [-5.7552],\n",
            "        [-5.7607],\n",
            "        [-6.4992],\n",
            "        [-5.0368],\n",
            "        [-5.7447],\n",
            "        [-4.9297],\n",
            "        [-5.0572],\n",
            "        [-5.7550],\n",
            "        [-5.7586],\n",
            "        [-5.7484],\n",
            "        [-5.9450],\n",
            "        [-5.7603],\n",
            "        [-5.7513],\n",
            "        [-4.9370],\n",
            "        [-5.7365],\n",
            "        [-6.1125],\n",
            "        [-5.7438],\n",
            "        [-5.7668],\n",
            "        [-5.7960],\n",
            "        [-4.9548],\n",
            "        [-5.7586],\n",
            "        [-5.9250],\n",
            "        [-5.7689],\n",
            "        [-6.1672],\n",
            "        [-5.7208],\n",
            "        [-5.7539],\n",
            "        [-5.7508],\n",
            "        [-5.8237],\n",
            "        [-5.7481],\n",
            "        [-5.7466],\n",
            "        [-5.7562],\n",
            "        [-4.9656],\n",
            "        [-5.7316],\n",
            "        [-5.2302],\n",
            "        [-5.7807],\n",
            "        [-5.9873],\n",
            "        [-5.7378],\n",
            "        [-5.7663],\n",
            "        [-4.9848],\n",
            "        [-5.1709],\n",
            "        [-5.7696],\n",
            "        [-5.2669],\n",
            "        [-5.7214],\n",
            "        [-5.7698],\n",
            "        [-5.0041],\n",
            "        [-5.4446],\n",
            "        [-5.9624],\n",
            "        [-6.5919],\n",
            "        [-5.6382],\n",
            "        [-5.7256],\n",
            "        [-5.7733],\n",
            "        [-5.7490],\n",
            "        [-4.9231],\n",
            "        [-6.0630],\n",
            "        [-5.7454],\n",
            "        [-5.7299],\n",
            "        [-6.5923],\n",
            "        [-5.7458],\n",
            "        [-6.5910],\n",
            "        [-5.7367],\n",
            "        [-5.7773],\n",
            "        [-5.9508],\n",
            "        [-5.7400],\n",
            "        [-5.7354],\n",
            "        [-5.8964],\n",
            "        [-5.7584],\n",
            "        [-5.7315],\n",
            "        [-5.9638],\n",
            "        [-5.7591],\n",
            "        [-5.7846],\n",
            "        [-5.7522],\n",
            "        [-5.7312],\n",
            "        [-5.7359],\n",
            "        [-5.9828],\n",
            "        [-5.5356],\n",
            "        [-5.7476],\n",
            "        [-5.7415],\n",
            "        [-5.7415],\n",
            "        [-5.7652],\n",
            "        [-5.7655],\n",
            "        [-5.9386],\n",
            "        [-5.8027],\n",
            "        [-5.7811],\n",
            "        [-5.1609],\n",
            "        [-5.7538],\n",
            "        [-5.7405],\n",
            "        [-5.9088],\n",
            "        [-6.5929],\n",
            "        [-4.9917],\n",
            "        [-5.9450],\n",
            "        [-5.6416],\n",
            "        [-5.4393],\n",
            "        [-5.1217],\n",
            "        [-5.7717],\n",
            "        [-6.5902],\n",
            "        [-5.7436],\n",
            "        [-5.7419],\n",
            "        [-5.0154],\n",
            "        [-5.7596],\n",
            "        [-5.7267],\n",
            "        [-5.7616],\n",
            "        [-5.6985],\n",
            "        [-5.7368],\n",
            "        [-5.9098],\n",
            "        [-5.7605],\n",
            "        [-5.7545],\n",
            "        [-5.7811],\n",
            "        [-5.7617],\n",
            "        [-5.8705],\n",
            "        [-5.0395],\n",
            "        [-5.6999],\n",
            "        [-5.9788],\n",
            "        [-5.7356],\n",
            "        [-5.7543],\n",
            "        [-5.7460],\n",
            "        [-6.0619],\n",
            "        [-5.3137],\n",
            "        [-5.0346],\n",
            "        [-5.7566],\n",
            "        [-5.7438],\n",
            "        [-5.4580],\n",
            "        [-5.7659],\n",
            "        [-5.7520],\n",
            "        [-5.7320],\n",
            "        [-5.2027],\n",
            "        [-5.7454],\n",
            "        [-5.7791],\n",
            "        [-5.7536],\n",
            "        [-5.7445],\n",
            "        [-5.4079],\n",
            "        [-5.7406],\n",
            "        [-5.7443],\n",
            "        [-5.7613],\n",
            "        [-5.7435],\n",
            "        [-5.7302],\n",
            "        [-5.7128],\n",
            "        [-6.5856],\n",
            "        [-5.7714],\n",
            "        [-5.7393],\n",
            "        [-5.9387],\n",
            "        [-6.5972],\n",
            "        [-5.9537],\n",
            "        [-5.7518],\n",
            "        [-5.4303],\n",
            "        [-5.7615],\n",
            "        [-5.1462],\n",
            "        [-5.9059],\n",
            "        [-5.7380],\n",
            "        [-4.9660],\n",
            "        [-6.5917],\n",
            "        [-6.1356],\n",
            "        [-4.9832],\n",
            "        [-4.9882],\n",
            "        [-5.7586],\n",
            "        [-5.7409],\n",
            "        [-5.4588],\n",
            "        [-5.7375],\n",
            "        [-5.7714],\n",
            "        [-5.7367],\n",
            "        [-5.7422],\n",
            "        [-5.7712],\n",
            "        [-5.7679],\n",
            "        [-6.0495],\n",
            "        [-5.7516],\n",
            "        [-5.7350],\n",
            "        [-5.7482],\n",
            "        [-4.9642],\n",
            "        [-5.9378],\n",
            "        [-6.5943]], device='cuda:0', grad_fn=<AddmmBackward>) torch.Size([200, 1])\n"
          ],
          "name": "stdout"
        }
      ]
    },
    {
      "cell_type": "code",
      "metadata": {
        "id": "3WBqmq1YfvVY",
        "colab_type": "code",
        "colab": {}
      },
      "source": [
        ""
      ],
      "execution_count": 0,
      "outputs": []
    }
  ]
}